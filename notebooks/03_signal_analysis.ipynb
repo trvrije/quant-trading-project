{
 "cells": [
  {
   "cell_type": "code",
   "execution_count": 1,
   "id": "feccac64",
   "metadata": {},
   "outputs": [
    {
     "name": "stdout",
     "output_type": "stream",
     "text": [
      "Loaded SPY: 391,260 rows\n",
      "Loaded QQQ: 391,260 rows\n",
      "                  timestamp  log_return  lag_return  next_return  vwap_dev  \\\n",
      "2 2020-01-02 09:33:00-05:00    0.000768    0.000004    -0.000278  0.000245   \n",
      "3 2020-01-02 09:34:00-05:00   -0.000278    0.000768     0.000772 -0.000314   \n",
      "4 2020-01-02 09:35:00-05:00    0.000772   -0.000278    -0.000031  0.000292   \n",
      "5 2020-01-02 09:36:00-05:00   -0.000031    0.000772    -0.000309  0.000074   \n",
      "6 2020-01-02 09:37:00-05:00   -0.000309   -0.000031    -0.000247 -0.000262   \n",
      "\n",
      "   volume_pct  \n",
      "2    0.910256  \n",
      "3    0.858974  \n",
      "4    0.971795  \n",
      "5    0.920513  \n",
      "6    0.884615  \n"
     ]
    }
   ],
   "source": [
    "# ==========================================\n",
    "# 03_signal_analysis.ipynb\n",
    "# Intraday signal exploration & predictability tests\n",
    "# ==========================================\n",
    "import pandas as pd\n",
    "import numpy as np\n",
    "import plotly.express as px\n",
    "import plotly.graph_objects as go\n",
    "import matplotlib.pyplot as plt\n",
    "import statsmodels.api as sm\n",
    "from pathlib import Path\n",
    "\n",
    "# -----------------------\n",
    "# 0) Load cleaned data\n",
    "# -----------------------\n",
    "data_dir = Path(\"../data/processed\")\n",
    "symbols = [\"SPY\", \"QQQ\"]   # keep this list flexible\n",
    "\n",
    "all_dfs = {}\n",
    "for sym in symbols:\n",
    "    f = data_dir / f\"{sym}_1min_clean.parquet\"\n",
    "    df = pd.read_parquet(f).sort_values(\"timestamp\").reset_index(drop=True)\n",
    "    all_dfs[sym] = df\n",
    "    print(f\"Loaded {sym}: {len(df):,} rows\")\n",
    "\n",
    "# choose one to prototype (you’ll loop over all later)\n",
    "sym0 = symbols[0]\n",
    "df = all_dfs[sym0].copy()\n",
    "\n",
    "# common engineered features\n",
    "df[\"lag_return\"]  = df[\"log_return\"].shift(1)\n",
    "df[\"next_return\"] = df[\"log_return\"].shift(-1)\n",
    "df[\"vwap_dev\"]    = (df[\"close\"] - df[\"vwap\"]) / df[\"vwap\"]\n",
    "df[\"volume_pct\"]  = df.groupby(df[\"timestamp\"].dt.date)[\"volume\"].rank(pct=True)\n",
    "df[\"minute_of_day\"] = df[\"timestamp\"].dt.hour*60 + df[\"timestamp\"].dt.minute\n",
    "\n",
    "df = df.dropna(subset=[\"lag_return\",\"next_return\",\"vwap_dev\",\"volume_pct\"]).copy()\n",
    "print(df[[\"timestamp\",\"log_return\",\"lag_return\",\"next_return\",\"vwap_dev\",\"volume_pct\"]].head())\n",
    "\n"
   ]
  },
  {
   "cell_type": "code",
   "execution_count": 2,
   "id": "7ddeb1b6",
   "metadata": {},
   "outputs": [],
   "source": [
    "def run_ols_hac(y, X, lags=5, add_const=True):\n",
    "    \"\"\"\n",
    "    Returns: (fit, coef_table)\n",
    "    coef_table has columns: coef, t, pvalue\n",
    "    \"\"\"\n",
    "    Xc = sm.add_constant(X) if add_const else X\n",
    "    model = sm.OLS(y, Xc, missing=\"drop\")\n",
    "    fit   = model.fit(cov_type=\"HAC\", cov_kwds={\"maxlags\": lags})\n",
    "    ct = pd.DataFrame({\n",
    "        \"coef\":   fit.params,\n",
    "        \"t\":      fit.tvalues,\n",
    "        \"pvalue\": fit.pvalues\n",
    "    })\n",
    "    return fit, ct\n",
    "\n",
    "def pretty_print(ct, title):\n",
    "    print(f\"\\n{title}\")\n",
    "    print(\"-\"*len(title))\n",
    "    print(ct.round(6))\n"
   ]
  },
  {
   "cell_type": "code",
   "execution_count": 3,
   "id": "731322ce",
   "metadata": {},
   "outputs": [
    {
     "name": "stdout",
     "output_type": "stream",
     "text": [
      "\n",
      "SPY: next_return ~ lag_return  (HAC)\n",
      "------------------------------------\n",
      "                coef         t    pvalue\n",
      "const       0.000000  0.481583  0.630102\n",
      "lag_return -0.011556 -2.426888  0.015229\n"
     ]
    },
    {
     "name": "stderr",
     "output_type": "stream",
     "text": [
      "C:\\Users\\trvri\\AppData\\Local\\Temp\\ipykernel_51932\\3778947216.py:10: FutureWarning: The default of observed=False is deprecated and will be changed to True in a future version of pandas. Pass observed=False to retain current behavior or observed=True to adopt the future default and silence this warning.\n",
      "  grp  = df.groupby(bins)[\"next_return\"].mean().reset_index()\n"
     ]
    },
    {
     "data": {
      "application/vnd.plotly.v1+json": {
       "config": {
        "plotlyServerURL": "https://plot.ly"
       },
       "data": [
        {
         "hovertemplate": "lag_bin_mid=%{x}<br>next_return=%{y}<extra></extra>",
         "legendgroup": "",
         "marker": {
          "color": "#636efa",
          "symbol": "circle"
         },
         "mode": "markers",
         "name": "",
         "orientation": "v",
         "showlegend": false,
         "type": "scatter",
         "x": {
          "bdata": "dOrKZ3kefL/mkxXD1QFQvzFdiNUfYUi/8nUZ/tMNRL8xe9l22hpBv0ijAifbwD2/NuhLb38uOr+GN2vwvio3v1aA7zZvnDS/tww4S8lyMr/OcAM+P4wwv243wTdNny2/9mT+0TdpKr8hIF9CBYcnvxX9oZkn1yS/5EUm4NdIIr/6YBkbutkfv3ZlvFI7aBu/vItBcREpF7+kP+plyj0Tvz975MV4gw6/hrpZzYRwBr/2UmeklMb+vsyw9hz91O2+DNWDOMWZxb7+nrNgPUnlPs7J5gUzAfo+hsYTQZyHAz+JrxtbdFcLP3aPx2cNORE/Nn3ReegWFT/8hcN3Bx0ZPwGIu3oVGR0/oDcVqTC2ID8aFw6EZAEjP3BiSE4mbiU/oBnEB3b8Jz+GqMKf4c0qPyQPRBZp4i0/uyakNQadMD+2DDhLyXIyP3JvfsNEgzQ/x7q4jQbwNj+uSbclcsE5P/jii/Z4IT0/JAot6/6xQD8LmSuDaoNDP24UWWsotUc/jrETXoJTTz/HgOz17o+HPw==",
          "dtype": "f8"
         },
         "xaxis": "x",
         "y": {
          "bdata": "SiAsPM3Z8z4nBwy/O8/7PjUDbnfg1+0+ZMnTJ1F21D7y4SDYjVrCPnGAM3lq+9E+AMF6eJiv9D4PSjHREBvyPhdldaiqjtg+b4YaPSUusT5q4s1T9OjsPv5H4Ejz5Os+Cq7+welo6D6NXz3lPnTdPt4BkycJz56+YD/Ur2Wicz7tvz4pwdKkPkFI3B9CKOA+wO9AZZj64z5zKWgvzH3QPgaonEvmr7s+7KMRzGTzy75oXWWoAxO0Pqo6HwMHrpk+cCoNVRh8zT6eRZyfO2i/vh6malL4PL6+4fKzyool1j7C3HCUApmtvpu6+BT1e9G+pBc5guqa3L4bNYUbzdecPpkI6qj8C76+vYdExMW4kb6JqlxMJPXQvkAkXZlL39a+yQMjmQPG0L4yiCD4J7GrvllTIEBxrNi+sVF4kUj30L6HS+TsP9Dcvmwj0oWhG86+8+/BlX3d0L6iH3oGmDTxvr/YLXfkMdC+nb0UIDGs+L6iXFnavxDovjmcBAjMMeW+wbwivYtTAb9+JG4ToF3yvg==",
          "dtype": "f8"
         },
         "yaxis": "y"
        },
        {
         "hovertemplate": "<b>OLS trendline</b><br>next_return = -0.00259227 * lag_bin_mid + 6.18593e-07<br>R<sup>2</sup>=0.224770<br><br>lag_bin_mid=%{x}<br>next_return=%{y} <b>(trend)</b><extra></extra>",
         "legendgroup": "",
         "marker": {
          "color": "#636efa",
          "symbol": "circle"
         },
         "mode": "lines",
         "name": "",
         "showlegend": false,
         "type": "scatter",
         "x": {
          "bdata": "dOrKZ3kefL/mkxXD1QFQvzFdiNUfYUi/8nUZ/tMNRL8xe9l22hpBv0ijAifbwD2/NuhLb38uOr+GN2vwvio3v1aA7zZvnDS/tww4S8lyMr/OcAM+P4wwv243wTdNny2/9mT+0TdpKr8hIF9CBYcnvxX9oZkn1yS/5EUm4NdIIr/6YBkbutkfv3ZlvFI7aBu/vItBcREpF7+kP+plyj0Tvz975MV4gw6/hrpZzYRwBr/2UmeklMb+vsyw9hz91O2+DNWDOMWZxb7+nrNgPUnlPs7J5gUzAfo+hsYTQZyHAz+JrxtbdFcLP3aPx2cNORE/Nn3ReegWFT/8hcN3Bx0ZPwGIu3oVGR0/oDcVqTC2ID8aFw6EZAEjP3BiSE4mbiU/oBnEB3b8Jz+GqMKf4c0qPyQPRBZp4i0/uyakNQadMD+2DDhLyXIyP3JvfsNEgzQ/x7q4jQbwNj+uSbclcsE5P/jii/Z4IT0/JAot6/6xQD8LmSuDaoNDP24UWWsotUc/jrETXoJTTz/HgOz17o+HPw==",
          "dtype": "f8"
         },
         "xaxis": "x",
         "y": {
          "bdata": "PsFzDRtP8z7ReVgeO2/KPqLlBqInXsU+XP3QoFR/wj7PJM9lUIrAPvLlAVaJH74+PEMZ8r/Auz76LOR8mcC5PqLGFZ9iDrg+gNJ6Hvmetj4q1ayGGFy1PhbyXoANNbQ+aIp37kYksz77PBDuVS+yPhzM9UQYS7E+75gO1vxxsD6hhOh8KVOvPlw/7Me62a0+pdY8av9wrD4uiA2eGSSrPt6axLSi0ak+RfsztLd6qD7pZZ6WOE+nPnRbEDZt/qU+nQoA6gL7pD6FW86gqN+jPnqYivdwmaI+hX5bTjaEoT6gHP6HbTigPkBcib1oFZ4+4iO6U4WEmz7VvTxe6diYPjTjqov7M5Y+7fp0iihVkz7ZG3KgzEmQPuyLRJvPI4o+jvIKJPRagz7w+zoT6r93PiBx4V+Sll0+gPNjU9CxZL7Y810DztR9vqS2H0wY4Im+FIevy9Vfk76u+xzm1Nqavg9RrN0v6KG+M6axa5GPp77NGh+GkAqvviRnrlxlFrW+qvA3OPsyv75fV5s3xp/+vg==",
          "dtype": "f8"
         },
         "yaxis": "y"
        }
       ],
       "layout": {
        "legend": {
         "tracegroupgap": 0
        },
        "template": {
         "data": {
          "bar": [
           {
            "error_x": {
             "color": "#2a3f5f"
            },
            "error_y": {
             "color": "#2a3f5f"
            },
            "marker": {
             "line": {
              "color": "#E5ECF6",
              "width": 0.5
             },
             "pattern": {
              "fillmode": "overlay",
              "size": 10,
              "solidity": 0.2
             }
            },
            "type": "bar"
           }
          ],
          "barpolar": [
           {
            "marker": {
             "line": {
              "color": "#E5ECF6",
              "width": 0.5
             },
             "pattern": {
              "fillmode": "overlay",
              "size": 10,
              "solidity": 0.2
             }
            },
            "type": "barpolar"
           }
          ],
          "carpet": [
           {
            "aaxis": {
             "endlinecolor": "#2a3f5f",
             "gridcolor": "white",
             "linecolor": "white",
             "minorgridcolor": "white",
             "startlinecolor": "#2a3f5f"
            },
            "baxis": {
             "endlinecolor": "#2a3f5f",
             "gridcolor": "white",
             "linecolor": "white",
             "minorgridcolor": "white",
             "startlinecolor": "#2a3f5f"
            },
            "type": "carpet"
           }
          ],
          "choropleth": [
           {
            "colorbar": {
             "outlinewidth": 0,
             "ticks": ""
            },
            "type": "choropleth"
           }
          ],
          "contour": [
           {
            "colorbar": {
             "outlinewidth": 0,
             "ticks": ""
            },
            "colorscale": [
             [
              0,
              "#0d0887"
             ],
             [
              0.1111111111111111,
              "#46039f"
             ],
             [
              0.2222222222222222,
              "#7201a8"
             ],
             [
              0.3333333333333333,
              "#9c179e"
             ],
             [
              0.4444444444444444,
              "#bd3786"
             ],
             [
              0.5555555555555556,
              "#d8576b"
             ],
             [
              0.6666666666666666,
              "#ed7953"
             ],
             [
              0.7777777777777778,
              "#fb9f3a"
             ],
             [
              0.8888888888888888,
              "#fdca26"
             ],
             [
              1,
              "#f0f921"
             ]
            ],
            "type": "contour"
           }
          ],
          "contourcarpet": [
           {
            "colorbar": {
             "outlinewidth": 0,
             "ticks": ""
            },
            "type": "contourcarpet"
           }
          ],
          "heatmap": [
           {
            "colorbar": {
             "outlinewidth": 0,
             "ticks": ""
            },
            "colorscale": [
             [
              0,
              "#0d0887"
             ],
             [
              0.1111111111111111,
              "#46039f"
             ],
             [
              0.2222222222222222,
              "#7201a8"
             ],
             [
              0.3333333333333333,
              "#9c179e"
             ],
             [
              0.4444444444444444,
              "#bd3786"
             ],
             [
              0.5555555555555556,
              "#d8576b"
             ],
             [
              0.6666666666666666,
              "#ed7953"
             ],
             [
              0.7777777777777778,
              "#fb9f3a"
             ],
             [
              0.8888888888888888,
              "#fdca26"
             ],
             [
              1,
              "#f0f921"
             ]
            ],
            "type": "heatmap"
           }
          ],
          "histogram": [
           {
            "marker": {
             "pattern": {
              "fillmode": "overlay",
              "size": 10,
              "solidity": 0.2
             }
            },
            "type": "histogram"
           }
          ],
          "histogram2d": [
           {
            "colorbar": {
             "outlinewidth": 0,
             "ticks": ""
            },
            "colorscale": [
             [
              0,
              "#0d0887"
             ],
             [
              0.1111111111111111,
              "#46039f"
             ],
             [
              0.2222222222222222,
              "#7201a8"
             ],
             [
              0.3333333333333333,
              "#9c179e"
             ],
             [
              0.4444444444444444,
              "#bd3786"
             ],
             [
              0.5555555555555556,
              "#d8576b"
             ],
             [
              0.6666666666666666,
              "#ed7953"
             ],
             [
              0.7777777777777778,
              "#fb9f3a"
             ],
             [
              0.8888888888888888,
              "#fdca26"
             ],
             [
              1,
              "#f0f921"
             ]
            ],
            "type": "histogram2d"
           }
          ],
          "histogram2dcontour": [
           {
            "colorbar": {
             "outlinewidth": 0,
             "ticks": ""
            },
            "colorscale": [
             [
              0,
              "#0d0887"
             ],
             [
              0.1111111111111111,
              "#46039f"
             ],
             [
              0.2222222222222222,
              "#7201a8"
             ],
             [
              0.3333333333333333,
              "#9c179e"
             ],
             [
              0.4444444444444444,
              "#bd3786"
             ],
             [
              0.5555555555555556,
              "#d8576b"
             ],
             [
              0.6666666666666666,
              "#ed7953"
             ],
             [
              0.7777777777777778,
              "#fb9f3a"
             ],
             [
              0.8888888888888888,
              "#fdca26"
             ],
             [
              1,
              "#f0f921"
             ]
            ],
            "type": "histogram2dcontour"
           }
          ],
          "mesh3d": [
           {
            "colorbar": {
             "outlinewidth": 0,
             "ticks": ""
            },
            "type": "mesh3d"
           }
          ],
          "parcoords": [
           {
            "line": {
             "colorbar": {
              "outlinewidth": 0,
              "ticks": ""
             }
            },
            "type": "parcoords"
           }
          ],
          "pie": [
           {
            "automargin": true,
            "type": "pie"
           }
          ],
          "scatter": [
           {
            "fillpattern": {
             "fillmode": "overlay",
             "size": 10,
             "solidity": 0.2
            },
            "type": "scatter"
           }
          ],
          "scatter3d": [
           {
            "line": {
             "colorbar": {
              "outlinewidth": 0,
              "ticks": ""
             }
            },
            "marker": {
             "colorbar": {
              "outlinewidth": 0,
              "ticks": ""
             }
            },
            "type": "scatter3d"
           }
          ],
          "scattercarpet": [
           {
            "marker": {
             "colorbar": {
              "outlinewidth": 0,
              "ticks": ""
             }
            },
            "type": "scattercarpet"
           }
          ],
          "scattergeo": [
           {
            "marker": {
             "colorbar": {
              "outlinewidth": 0,
              "ticks": ""
             }
            },
            "type": "scattergeo"
           }
          ],
          "scattergl": [
           {
            "marker": {
             "colorbar": {
              "outlinewidth": 0,
              "ticks": ""
             }
            },
            "type": "scattergl"
           }
          ],
          "scattermap": [
           {
            "marker": {
             "colorbar": {
              "outlinewidth": 0,
              "ticks": ""
             }
            },
            "type": "scattermap"
           }
          ],
          "scattermapbox": [
           {
            "marker": {
             "colorbar": {
              "outlinewidth": 0,
              "ticks": ""
             }
            },
            "type": "scattermapbox"
           }
          ],
          "scatterpolar": [
           {
            "marker": {
             "colorbar": {
              "outlinewidth": 0,
              "ticks": ""
             }
            },
            "type": "scatterpolar"
           }
          ],
          "scatterpolargl": [
           {
            "marker": {
             "colorbar": {
              "outlinewidth": 0,
              "ticks": ""
             }
            },
            "type": "scatterpolargl"
           }
          ],
          "scatterternary": [
           {
            "marker": {
             "colorbar": {
              "outlinewidth": 0,
              "ticks": ""
             }
            },
            "type": "scatterternary"
           }
          ],
          "surface": [
           {
            "colorbar": {
             "outlinewidth": 0,
             "ticks": ""
            },
            "colorscale": [
             [
              0,
              "#0d0887"
             ],
             [
              0.1111111111111111,
              "#46039f"
             ],
             [
              0.2222222222222222,
              "#7201a8"
             ],
             [
              0.3333333333333333,
              "#9c179e"
             ],
             [
              0.4444444444444444,
              "#bd3786"
             ],
             [
              0.5555555555555556,
              "#d8576b"
             ],
             [
              0.6666666666666666,
              "#ed7953"
             ],
             [
              0.7777777777777778,
              "#fb9f3a"
             ],
             [
              0.8888888888888888,
              "#fdca26"
             ],
             [
              1,
              "#f0f921"
             ]
            ],
            "type": "surface"
           }
          ],
          "table": [
           {
            "cells": {
             "fill": {
              "color": "#EBF0F8"
             },
             "line": {
              "color": "white"
             }
            },
            "header": {
             "fill": {
              "color": "#C8D4E3"
             },
             "line": {
              "color": "white"
             }
            },
            "type": "table"
           }
          ]
         },
         "layout": {
          "annotationdefaults": {
           "arrowcolor": "#2a3f5f",
           "arrowhead": 0,
           "arrowwidth": 1
          },
          "autotypenumbers": "strict",
          "coloraxis": {
           "colorbar": {
            "outlinewidth": 0,
            "ticks": ""
           }
          },
          "colorscale": {
           "diverging": [
            [
             0,
             "#8e0152"
            ],
            [
             0.1,
             "#c51b7d"
            ],
            [
             0.2,
             "#de77ae"
            ],
            [
             0.3,
             "#f1b6da"
            ],
            [
             0.4,
             "#fde0ef"
            ],
            [
             0.5,
             "#f7f7f7"
            ],
            [
             0.6,
             "#e6f5d0"
            ],
            [
             0.7,
             "#b8e186"
            ],
            [
             0.8,
             "#7fbc41"
            ],
            [
             0.9,
             "#4d9221"
            ],
            [
             1,
             "#276419"
            ]
           ],
           "sequential": [
            [
             0,
             "#0d0887"
            ],
            [
             0.1111111111111111,
             "#46039f"
            ],
            [
             0.2222222222222222,
             "#7201a8"
            ],
            [
             0.3333333333333333,
             "#9c179e"
            ],
            [
             0.4444444444444444,
             "#bd3786"
            ],
            [
             0.5555555555555556,
             "#d8576b"
            ],
            [
             0.6666666666666666,
             "#ed7953"
            ],
            [
             0.7777777777777778,
             "#fb9f3a"
            ],
            [
             0.8888888888888888,
             "#fdca26"
            ],
            [
             1,
             "#f0f921"
            ]
           ],
           "sequentialminus": [
            [
             0,
             "#0d0887"
            ],
            [
             0.1111111111111111,
             "#46039f"
            ],
            [
             0.2222222222222222,
             "#7201a8"
            ],
            [
             0.3333333333333333,
             "#9c179e"
            ],
            [
             0.4444444444444444,
             "#bd3786"
            ],
            [
             0.5555555555555556,
             "#d8576b"
            ],
            [
             0.6666666666666666,
             "#ed7953"
            ],
            [
             0.7777777777777778,
             "#fb9f3a"
            ],
            [
             0.8888888888888888,
             "#fdca26"
            ],
            [
             1,
             "#f0f921"
            ]
           ]
          },
          "colorway": [
           "#636efa",
           "#EF553B",
           "#00cc96",
           "#ab63fa",
           "#FFA15A",
           "#19d3f3",
           "#FF6692",
           "#B6E880",
           "#FF97FF",
           "#FECB52"
          ],
          "font": {
           "color": "#2a3f5f"
          },
          "geo": {
           "bgcolor": "white",
           "lakecolor": "white",
           "landcolor": "#E5ECF6",
           "showlakes": true,
           "showland": true,
           "subunitcolor": "white"
          },
          "hoverlabel": {
           "align": "left"
          },
          "hovermode": "closest",
          "mapbox": {
           "style": "light"
          },
          "paper_bgcolor": "white",
          "plot_bgcolor": "#E5ECF6",
          "polar": {
           "angularaxis": {
            "gridcolor": "white",
            "linecolor": "white",
            "ticks": ""
           },
           "bgcolor": "#E5ECF6",
           "radialaxis": {
            "gridcolor": "white",
            "linecolor": "white",
            "ticks": ""
           }
          },
          "scene": {
           "xaxis": {
            "backgroundcolor": "#E5ECF6",
            "gridcolor": "white",
            "gridwidth": 2,
            "linecolor": "white",
            "showbackground": true,
            "ticks": "",
            "zerolinecolor": "white"
           },
           "yaxis": {
            "backgroundcolor": "#E5ECF6",
            "gridcolor": "white",
            "gridwidth": 2,
            "linecolor": "white",
            "showbackground": true,
            "ticks": "",
            "zerolinecolor": "white"
           },
           "zaxis": {
            "backgroundcolor": "#E5ECF6",
            "gridcolor": "white",
            "gridwidth": 2,
            "linecolor": "white",
            "showbackground": true,
            "ticks": "",
            "zerolinecolor": "white"
           }
          },
          "shapedefaults": {
           "line": {
            "color": "#2a3f5f"
           }
          },
          "ternary": {
           "aaxis": {
            "gridcolor": "white",
            "linecolor": "white",
            "ticks": ""
           },
           "baxis": {
            "gridcolor": "white",
            "linecolor": "white",
            "ticks": ""
           },
           "bgcolor": "#E5ECF6",
           "caxis": {
            "gridcolor": "white",
            "linecolor": "white",
            "ticks": ""
           }
          },
          "title": {
           "x": 0.05
          },
          "xaxis": {
           "automargin": true,
           "gridcolor": "white",
           "linecolor": "white",
           "ticks": "",
           "title": {
            "standoff": 15
           },
           "zerolinecolor": "white",
           "zerolinewidth": 2
          },
          "yaxis": {
           "automargin": true,
           "gridcolor": "white",
           "linecolor": "white",
           "ticks": "",
           "title": {
            "standoff": 15
           },
           "zerolinecolor": "white",
           "zerolinewidth": 2
          }
         }
        },
        "title": {
         "text": "SPY: Binned lag_return vs next_return"
        },
        "xaxis": {
         "anchor": "y",
         "domain": [
          0,
          1
         ],
         "title": {
          "text": "lag_return (bin mid)"
         }
        },
        "yaxis": {
         "anchor": "x",
         "domain": [
          0,
          1
         ],
         "title": {
          "text": "avg next_return"
         }
        }
       }
      }
     },
     "metadata": {},
     "output_type": "display_data"
    }
   ],
   "source": [
    "fit_ar, ct_ar = run_ols_hac(\n",
    "    y = df[\"next_return\"],\n",
    "    X = df[[\"lag_return\"]],\n",
    "    lags = 10\n",
    ")\n",
    "pretty_print(ct_ar, f\"{sym0}: next_return ~ lag_return  (HAC)\")\n",
    "\n",
    "# quick viz: binned scatter\n",
    "bins = pd.qcut(df[\"lag_return\"], q=50, duplicates=\"drop\")\n",
    "grp  = df.groupby(bins)[\"next_return\"].mean().reset_index()\n",
    "grp[\"lag_bin_mid\"] = grp[\"lag_return\"].apply(lambda x: 0.5*(x.left+x.right))\n",
    "\n",
    "fig = px.scatter(grp, x=\"lag_bin_mid\", y=\"next_return\",\n",
    "                 trendline=\"ols\",\n",
    "                 title=f\"{sym0}: Binned lag_return vs next_return\")\n",
    "fig.update_layout(xaxis_title=\"lag_return (bin mid)\", yaxis_title=\"avg next_return\")\n",
    "fig.show()\n"
   ]
  },
  {
   "cell_type": "code",
   "execution_count": 4,
   "id": "034cf977",
   "metadata": {},
   "outputs": [
    {
     "name": "stdout",
     "output_type": "stream",
     "text": [
      "\n",
      "SPY: next_return ~ vwap_dev  (HAC)\n",
      "----------------------------------\n",
      "              coef         t    pvalue\n",
      "const     0.000000  0.499334  0.617544\n",
      "vwap_dev  0.039871  4.513219  0.000006\n"
     ]
    },
    {
     "name": "stderr",
     "output_type": "stream",
     "text": [
      "C:\\Users\\trvri\\AppData\\Local\\Temp\\ipykernel_51932\\3584578239.py:10: FutureWarning:\n",
      "\n",
      "The default of observed=False is deprecated and will be changed to True in a future version of pandas. Pass observed=False to retain current behavior or observed=True to adopt the future default and silence this warning.\n",
      "\n"
     ]
    },
    {
     "data": {
      "application/vnd.plotly.v1+json": {
       "config": {
        "plotlyServerURL": "https://plot.ly"
       },
       "data": [
        {
         "hovertemplate": "dev_mid=%{x}<br>next_return=%{y}<extra></extra>",
         "legendgroup": "",
         "marker": {
          "color": "#636efa",
          "symbol": "circle"
         },
         "mode": "markers",
         "name": "",
         "orientation": "v",
         "showlegend": false,
         "type": "scatter",
         "x": {
          "bdata": "p1t2iH/Ycr+p3EQtza1Av0o/4ezWMjm/MewwJv29NL+L4H8r2bExvzRMbamDvC6/PYBFfv0QK7+Oz2T/PA0ov10Y6UXtfiW/4jjwarkzI78eMXpuoSshvyICDqFKzR6/zsMJTKd1G7+bBTXXxF0Yv+Al3TsPkxW/GhcOhGQBE79aIye4/ZcQv5TYtb3dkgy//pL57CUyCL+bF8wEaAAEv86xch4E0/++dGodC8D1974hPrDjv0Dwvh0pdMGNUuG+LGDAmhyhs77S3iIoZe/YPsaknonZYOs+oCV+e40T9T7mGxvLBXj8PkjT6vU4HQI/eISJ9fwfBj8BlHXuLDAKP5C+SdOgaA4/P7GpTmJrET+mRkMhXccTP6tOGN72ThY/DtAigEAMGT9NvW4RGOsbP9jZkH9mEB8/DOcaZmg8IT/1gk9z8iIjP4Ksp1ZfXSU/xa2CGOjaJz+GqMKf4c0qP6IIqdvZVy4/6FJcVfZdMT+pTZzc71A0PwzJycStgjg/T3eeeM4WQD+5GW7A54dxPw==",
          "dtype": "f8"
         },
         "xaxis": "x",
         "y": {
          "bdata": "YeQ6H0TgAr8gwnc5GWHtvhEJmJZNDvq+DlvAnfBr6b6gsg2/XeT1vig4tpIbGvC+GB10EsOD4L4vLMyN7orpvr/iSRd5Ydu+IwdBB+eR4b7sYBIqDTbUvrvVQoMywNu+o6eYPO4poD5Io0s6j6viviHzWAt+UeC+J/lr1SuZqz7YTKrPl0eoPpZUUQrTjL6+hPNzpM5X0750BKT5Yzu1vsyZcYh97NA+u2dEI8MsuD6n4cILorXBPt/4uepig6e+dVEsklDItL4315tG8tKyPrYhqZeR/N4+U5N0HtMYyD492du3HTjVPoFuNdKA6cg+1zWpesWGpT5Vt9wbE7HTPsJJZjyuttk+ZdbaGsXQ5D7CZ254E+/Kvu0ykR4CM+c+WuWfwx2GyD6/pt+Y6PfRvr8T33EFv78+pfwVJoLx5T5coNYfqZjXPoDvWdSr+fA+kQFPjM0J2j58CwDKDjjiPhMVNnApldc+LSEdC7eN5z6YjHCGpDWiPp0NTTdStPY+G/iWaqOlAD+qZMle3ZoEPw==",
          "dtype": "f8"
         },
         "yaxis": "y"
        },
        {
         "hovertemplate": "<b>OLS trendline</b><br>next_return = 0.00999696 * dev_mid + 4.66882e-07<br>R<sup>2</sup>=0.539350<br><br>dev_mid=%{x}<br>next_return=%{y} <b>(trend)</b><extra></extra>",
         "legendgroup": "",
         "marker": {
          "color": "#636efa",
          "symbol": "circle"
         },
         "mode": "lines",
         "name": "",
         "showlegend": false,
         "type": "scatter",
         "x": {
          "bdata": "p1t2iH/Ycr+p3EQtza1Av0o/4ezWMjm/MewwJv29NL+L4H8r2bExvzRMbamDvC6/PYBFfv0QK7+Oz2T/PA0ov10Y6UXtfiW/4jjwarkzI78eMXpuoSshvyICDqFKzR6/zsMJTKd1G7+bBTXXxF0Yv+Al3TsPkxW/GhcOhGQBE79aIye4/ZcQv5TYtb3dkgy//pL57CUyCL+bF8wEaAAEv86xch4E0/++dGodC8D1974hPrDjv0Dwvh0pdMGNUuG+LGDAmhyhs77S3iIoZe/YPsaknonZYOs+oCV+e40T9T7mGxvLBXj8PkjT6vU4HQI/eISJ9fwfBj8BlHXuLDAKP5C+SdOgaA4/P7GpTmJrET+mRkMhXccTP6tOGN72ThY/DtAigEAMGT9NvW4RGOsbP9jZkH9mEB8/DOcaZmg8IT/1gk9z8iIjP4Ksp1ZfXSU/xa2CGOjaJz+GqMKf4c0qP6IIqdvZVy4/6FJcVfZdMT+pTZzc71A0PwzJycStgjg/T3eeeM4WQD+5GW7A54dxPw==",
          "dtype": "f8"
         },
         "xaxis": "x",
         "y": {
          "bdata": "QyNqgdHeB78kynIWYGLTvuHpSg3yU8y+JpmOoRmgxr4PAFvQ0rnCvmpCk4plf7++kqVwyCvNur5QyfjooPG2vqhAxUFdrLO+oJ5vKPm8sL54xu856UasvvQcvD6fv6e+ZuDu7bx4o77mfQL73QafvnLN2EbE4Ze+FCV1naZOkb7oItFvKkWGvmDZAqna7HS+gEx1Iay3Nz4w/ZA5XvN2PkqaoADu8IU+ntBQUJAAkD7mjluP5u6UPtYAoWxYypk+l63wOAeMnj7wUl+ZAKmhPodHU6uPC6Q+7dnvzolopj7gc3/d8cWoPowegypoQas+4EL+WlbSrT4i/zpz7TWwPm2/cUGRj7E+2K2hxWH6sj6vOwjEz3y0Pnu0I2omG7Y+h4kxfNbbtz492LZx/rG5PgdA6sQ7tbs+IZsM32jjvT6ascrR/ijAPsrFuez0lcE+Sc2Xztotwz6W/pdM5BDFPlnTMUqJVMc+5D5Ujrkjyj59oVSKzOnNPsyFGbTio9E+yNLmLsiL1j5yFNIgcK0GPw==",
          "dtype": "f8"
         },
         "yaxis": "y"
        }
       ],
       "layout": {
        "legend": {
         "tracegroupgap": 0
        },
        "template": {
         "data": {
          "bar": [
           {
            "error_x": {
             "color": "#2a3f5f"
            },
            "error_y": {
             "color": "#2a3f5f"
            },
            "marker": {
             "line": {
              "color": "#E5ECF6",
              "width": 0.5
             },
             "pattern": {
              "fillmode": "overlay",
              "size": 10,
              "solidity": 0.2
             }
            },
            "type": "bar"
           }
          ],
          "barpolar": [
           {
            "marker": {
             "line": {
              "color": "#E5ECF6",
              "width": 0.5
             },
             "pattern": {
              "fillmode": "overlay",
              "size": 10,
              "solidity": 0.2
             }
            },
            "type": "barpolar"
           }
          ],
          "carpet": [
           {
            "aaxis": {
             "endlinecolor": "#2a3f5f",
             "gridcolor": "white",
             "linecolor": "white",
             "minorgridcolor": "white",
             "startlinecolor": "#2a3f5f"
            },
            "baxis": {
             "endlinecolor": "#2a3f5f",
             "gridcolor": "white",
             "linecolor": "white",
             "minorgridcolor": "white",
             "startlinecolor": "#2a3f5f"
            },
            "type": "carpet"
           }
          ],
          "choropleth": [
           {
            "colorbar": {
             "outlinewidth": 0,
             "ticks": ""
            },
            "type": "choropleth"
           }
          ],
          "contour": [
           {
            "colorbar": {
             "outlinewidth": 0,
             "ticks": ""
            },
            "colorscale": [
             [
              0,
              "#0d0887"
             ],
             [
              0.1111111111111111,
              "#46039f"
             ],
             [
              0.2222222222222222,
              "#7201a8"
             ],
             [
              0.3333333333333333,
              "#9c179e"
             ],
             [
              0.4444444444444444,
              "#bd3786"
             ],
             [
              0.5555555555555556,
              "#d8576b"
             ],
             [
              0.6666666666666666,
              "#ed7953"
             ],
             [
              0.7777777777777778,
              "#fb9f3a"
             ],
             [
              0.8888888888888888,
              "#fdca26"
             ],
             [
              1,
              "#f0f921"
             ]
            ],
            "type": "contour"
           }
          ],
          "contourcarpet": [
           {
            "colorbar": {
             "outlinewidth": 0,
             "ticks": ""
            },
            "type": "contourcarpet"
           }
          ],
          "heatmap": [
           {
            "colorbar": {
             "outlinewidth": 0,
             "ticks": ""
            },
            "colorscale": [
             [
              0,
              "#0d0887"
             ],
             [
              0.1111111111111111,
              "#46039f"
             ],
             [
              0.2222222222222222,
              "#7201a8"
             ],
             [
              0.3333333333333333,
              "#9c179e"
             ],
             [
              0.4444444444444444,
              "#bd3786"
             ],
             [
              0.5555555555555556,
              "#d8576b"
             ],
             [
              0.6666666666666666,
              "#ed7953"
             ],
             [
              0.7777777777777778,
              "#fb9f3a"
             ],
             [
              0.8888888888888888,
              "#fdca26"
             ],
             [
              1,
              "#f0f921"
             ]
            ],
            "type": "heatmap"
           }
          ],
          "histogram": [
           {
            "marker": {
             "pattern": {
              "fillmode": "overlay",
              "size": 10,
              "solidity": 0.2
             }
            },
            "type": "histogram"
           }
          ],
          "histogram2d": [
           {
            "colorbar": {
             "outlinewidth": 0,
             "ticks": ""
            },
            "colorscale": [
             [
              0,
              "#0d0887"
             ],
             [
              0.1111111111111111,
              "#46039f"
             ],
             [
              0.2222222222222222,
              "#7201a8"
             ],
             [
              0.3333333333333333,
              "#9c179e"
             ],
             [
              0.4444444444444444,
              "#bd3786"
             ],
             [
              0.5555555555555556,
              "#d8576b"
             ],
             [
              0.6666666666666666,
              "#ed7953"
             ],
             [
              0.7777777777777778,
              "#fb9f3a"
             ],
             [
              0.8888888888888888,
              "#fdca26"
             ],
             [
              1,
              "#f0f921"
             ]
            ],
            "type": "histogram2d"
           }
          ],
          "histogram2dcontour": [
           {
            "colorbar": {
             "outlinewidth": 0,
             "ticks": ""
            },
            "colorscale": [
             [
              0,
              "#0d0887"
             ],
             [
              0.1111111111111111,
              "#46039f"
             ],
             [
              0.2222222222222222,
              "#7201a8"
             ],
             [
              0.3333333333333333,
              "#9c179e"
             ],
             [
              0.4444444444444444,
              "#bd3786"
             ],
             [
              0.5555555555555556,
              "#d8576b"
             ],
             [
              0.6666666666666666,
              "#ed7953"
             ],
             [
              0.7777777777777778,
              "#fb9f3a"
             ],
             [
              0.8888888888888888,
              "#fdca26"
             ],
             [
              1,
              "#f0f921"
             ]
            ],
            "type": "histogram2dcontour"
           }
          ],
          "mesh3d": [
           {
            "colorbar": {
             "outlinewidth": 0,
             "ticks": ""
            },
            "type": "mesh3d"
           }
          ],
          "parcoords": [
           {
            "line": {
             "colorbar": {
              "outlinewidth": 0,
              "ticks": ""
             }
            },
            "type": "parcoords"
           }
          ],
          "pie": [
           {
            "automargin": true,
            "type": "pie"
           }
          ],
          "scatter": [
           {
            "fillpattern": {
             "fillmode": "overlay",
             "size": 10,
             "solidity": 0.2
            },
            "type": "scatter"
           }
          ],
          "scatter3d": [
           {
            "line": {
             "colorbar": {
              "outlinewidth": 0,
              "ticks": ""
             }
            },
            "marker": {
             "colorbar": {
              "outlinewidth": 0,
              "ticks": ""
             }
            },
            "type": "scatter3d"
           }
          ],
          "scattercarpet": [
           {
            "marker": {
             "colorbar": {
              "outlinewidth": 0,
              "ticks": ""
             }
            },
            "type": "scattercarpet"
           }
          ],
          "scattergeo": [
           {
            "marker": {
             "colorbar": {
              "outlinewidth": 0,
              "ticks": ""
             }
            },
            "type": "scattergeo"
           }
          ],
          "scattergl": [
           {
            "marker": {
             "colorbar": {
              "outlinewidth": 0,
              "ticks": ""
             }
            },
            "type": "scattergl"
           }
          ],
          "scattermap": [
           {
            "marker": {
             "colorbar": {
              "outlinewidth": 0,
              "ticks": ""
             }
            },
            "type": "scattermap"
           }
          ],
          "scattermapbox": [
           {
            "marker": {
             "colorbar": {
              "outlinewidth": 0,
              "ticks": ""
             }
            },
            "type": "scattermapbox"
           }
          ],
          "scatterpolar": [
           {
            "marker": {
             "colorbar": {
              "outlinewidth": 0,
              "ticks": ""
             }
            },
            "type": "scatterpolar"
           }
          ],
          "scatterpolargl": [
           {
            "marker": {
             "colorbar": {
              "outlinewidth": 0,
              "ticks": ""
             }
            },
            "type": "scatterpolargl"
           }
          ],
          "scatterternary": [
           {
            "marker": {
             "colorbar": {
              "outlinewidth": 0,
              "ticks": ""
             }
            },
            "type": "scatterternary"
           }
          ],
          "surface": [
           {
            "colorbar": {
             "outlinewidth": 0,
             "ticks": ""
            },
            "colorscale": [
             [
              0,
              "#0d0887"
             ],
             [
              0.1111111111111111,
              "#46039f"
             ],
             [
              0.2222222222222222,
              "#7201a8"
             ],
             [
              0.3333333333333333,
              "#9c179e"
             ],
             [
              0.4444444444444444,
              "#bd3786"
             ],
             [
              0.5555555555555556,
              "#d8576b"
             ],
             [
              0.6666666666666666,
              "#ed7953"
             ],
             [
              0.7777777777777778,
              "#fb9f3a"
             ],
             [
              0.8888888888888888,
              "#fdca26"
             ],
             [
              1,
              "#f0f921"
             ]
            ],
            "type": "surface"
           }
          ],
          "table": [
           {
            "cells": {
             "fill": {
              "color": "#EBF0F8"
             },
             "line": {
              "color": "white"
             }
            },
            "header": {
             "fill": {
              "color": "#C8D4E3"
             },
             "line": {
              "color": "white"
             }
            },
            "type": "table"
           }
          ]
         },
         "layout": {
          "annotationdefaults": {
           "arrowcolor": "#2a3f5f",
           "arrowhead": 0,
           "arrowwidth": 1
          },
          "autotypenumbers": "strict",
          "coloraxis": {
           "colorbar": {
            "outlinewidth": 0,
            "ticks": ""
           }
          },
          "colorscale": {
           "diverging": [
            [
             0,
             "#8e0152"
            ],
            [
             0.1,
             "#c51b7d"
            ],
            [
             0.2,
             "#de77ae"
            ],
            [
             0.3,
             "#f1b6da"
            ],
            [
             0.4,
             "#fde0ef"
            ],
            [
             0.5,
             "#f7f7f7"
            ],
            [
             0.6,
             "#e6f5d0"
            ],
            [
             0.7,
             "#b8e186"
            ],
            [
             0.8,
             "#7fbc41"
            ],
            [
             0.9,
             "#4d9221"
            ],
            [
             1,
             "#276419"
            ]
           ],
           "sequential": [
            [
             0,
             "#0d0887"
            ],
            [
             0.1111111111111111,
             "#46039f"
            ],
            [
             0.2222222222222222,
             "#7201a8"
            ],
            [
             0.3333333333333333,
             "#9c179e"
            ],
            [
             0.4444444444444444,
             "#bd3786"
            ],
            [
             0.5555555555555556,
             "#d8576b"
            ],
            [
             0.6666666666666666,
             "#ed7953"
            ],
            [
             0.7777777777777778,
             "#fb9f3a"
            ],
            [
             0.8888888888888888,
             "#fdca26"
            ],
            [
             1,
             "#f0f921"
            ]
           ],
           "sequentialminus": [
            [
             0,
             "#0d0887"
            ],
            [
             0.1111111111111111,
             "#46039f"
            ],
            [
             0.2222222222222222,
             "#7201a8"
            ],
            [
             0.3333333333333333,
             "#9c179e"
            ],
            [
             0.4444444444444444,
             "#bd3786"
            ],
            [
             0.5555555555555556,
             "#d8576b"
            ],
            [
             0.6666666666666666,
             "#ed7953"
            ],
            [
             0.7777777777777778,
             "#fb9f3a"
            ],
            [
             0.8888888888888888,
             "#fdca26"
            ],
            [
             1,
             "#f0f921"
            ]
           ]
          },
          "colorway": [
           "#636efa",
           "#EF553B",
           "#00cc96",
           "#ab63fa",
           "#FFA15A",
           "#19d3f3",
           "#FF6692",
           "#B6E880",
           "#FF97FF",
           "#FECB52"
          ],
          "font": {
           "color": "#2a3f5f"
          },
          "geo": {
           "bgcolor": "white",
           "lakecolor": "white",
           "landcolor": "#E5ECF6",
           "showlakes": true,
           "showland": true,
           "subunitcolor": "white"
          },
          "hoverlabel": {
           "align": "left"
          },
          "hovermode": "closest",
          "mapbox": {
           "style": "light"
          },
          "paper_bgcolor": "white",
          "plot_bgcolor": "#E5ECF6",
          "polar": {
           "angularaxis": {
            "gridcolor": "white",
            "linecolor": "white",
            "ticks": ""
           },
           "bgcolor": "#E5ECF6",
           "radialaxis": {
            "gridcolor": "white",
            "linecolor": "white",
            "ticks": ""
           }
          },
          "scene": {
           "xaxis": {
            "backgroundcolor": "#E5ECF6",
            "gridcolor": "white",
            "gridwidth": 2,
            "linecolor": "white",
            "showbackground": true,
            "ticks": "",
            "zerolinecolor": "white"
           },
           "yaxis": {
            "backgroundcolor": "#E5ECF6",
            "gridcolor": "white",
            "gridwidth": 2,
            "linecolor": "white",
            "showbackground": true,
            "ticks": "",
            "zerolinecolor": "white"
           },
           "zaxis": {
            "backgroundcolor": "#E5ECF6",
            "gridcolor": "white",
            "gridwidth": 2,
            "linecolor": "white",
            "showbackground": true,
            "ticks": "",
            "zerolinecolor": "white"
           }
          },
          "shapedefaults": {
           "line": {
            "color": "#2a3f5f"
           }
          },
          "ternary": {
           "aaxis": {
            "gridcolor": "white",
            "linecolor": "white",
            "ticks": ""
           },
           "baxis": {
            "gridcolor": "white",
            "linecolor": "white",
            "ticks": ""
           },
           "bgcolor": "#E5ECF6",
           "caxis": {
            "gridcolor": "white",
            "linecolor": "white",
            "ticks": ""
           }
          },
          "title": {
           "x": 0.05
          },
          "xaxis": {
           "automargin": true,
           "gridcolor": "white",
           "linecolor": "white",
           "ticks": "",
           "title": {
            "standoff": 15
           },
           "zerolinecolor": "white",
           "zerolinewidth": 2
          },
          "yaxis": {
           "automargin": true,
           "gridcolor": "white",
           "linecolor": "white",
           "ticks": "",
           "title": {
            "standoff": 15
           },
           "zerolinecolor": "white",
           "zerolinewidth": 2
          }
         }
        },
        "title": {
         "text": "SPY: Binned vwap_dev vs next_return"
        },
        "xaxis": {
         "anchor": "y",
         "domain": [
          0,
          1
         ],
         "title": {
          "text": "vwap_dev (bin mid)"
         }
        },
        "yaxis": {
         "anchor": "x",
         "domain": [
          0,
          1
         ],
         "title": {
          "text": "avg next_return"
         }
        }
       }
      }
     },
     "metadata": {},
     "output_type": "display_data"
    }
   ],
   "source": [
    "fit_vwap, ct_vwap = run_ols_hac(\n",
    "    y = df[\"next_return\"],\n",
    "    X = df[[\"vwap_dev\"]],\n",
    "    lags = 10\n",
    ")\n",
    "pretty_print(ct_vwap, f\"{sym0}: next_return ~ vwap_dev  (HAC)\")\n",
    "\n",
    "# binned scatter\n",
    "bins = pd.qcut(df[\"vwap_dev\"], q=50, duplicates=\"drop\")\n",
    "grp  = df.groupby(bins)[\"next_return\"].mean().reset_index()\n",
    "grp[\"dev_mid\"] = grp[\"vwap_dev\"].apply(lambda x: 0.5*(x.left+x.right))\n",
    "\n",
    "fig = px.scatter(grp, x=\"dev_mid\", y=\"next_return\",\n",
    "                 trendline=\"ols\",\n",
    "                 title=f\"{sym0}: Binned vwap_dev vs next_return\")\n",
    "fig.update_layout(xaxis_title=\"vwap_dev (bin mid)\", yaxis_title=\"avg next_return\")\n",
    "fig.show()\n"
   ]
  },
  {
   "cell_type": "code",
   "execution_count": 5,
   "id": "3401a61b",
   "metadata": {},
   "outputs": [
    {
     "name": "stdout",
     "output_type": "stream",
     "text": [
      "\n",
      "SPY: |log_return| ~ volume_pct  (HAC)\n",
      "-------------------------------------\n",
      "                coef          t  pvalue\n",
      "const       0.000139  72.789533     0.0\n",
      "volume_pct  0.000370  81.341470     0.0\n"
     ]
    },
    {
     "data": {
      "application/vnd.plotly.v1+json": {
       "config": {
        "plotlyServerURL": "https://plot.ly"
       },
       "data": [
        {
         "hovertemplate": "vol_decile=%{x}<br>log_return=%{y}<extra></extra>",
         "legendgroup": "",
         "line": {
          "color": "#636efa",
          "dash": "solid"
         },
         "marker": {
          "symbol": "circle"
         },
         "mode": "lines+markers",
         "name": "",
         "orientation": "v",
         "showlegend": false,
         "type": "scatter",
         "x": {
          "bdata": "AQIDBAUGBwgJCg==",
          "dtype": "i1"
         },
         "xaxis": "x",
         "y": {
          "bdata": "1Eqmhb0WMj8lHcqNMg02P7zq52MvZjg/ZzgM0Xp3Oj8Kva+3nzg9P1ICyISTWz8/WjjMa/deQT8DU90usL9DP+dETcSiqEY/9xXhUWBsTD8=",
          "dtype": "f8"
         },
         "yaxis": "y"
        }
       ],
       "layout": {
        "legend": {
         "tracegroupgap": 0
        },
        "template": {
         "data": {
          "bar": [
           {
            "error_x": {
             "color": "#2a3f5f"
            },
            "error_y": {
             "color": "#2a3f5f"
            },
            "marker": {
             "line": {
              "color": "#E5ECF6",
              "width": 0.5
             },
             "pattern": {
              "fillmode": "overlay",
              "size": 10,
              "solidity": 0.2
             }
            },
            "type": "bar"
           }
          ],
          "barpolar": [
           {
            "marker": {
             "line": {
              "color": "#E5ECF6",
              "width": 0.5
             },
             "pattern": {
              "fillmode": "overlay",
              "size": 10,
              "solidity": 0.2
             }
            },
            "type": "barpolar"
           }
          ],
          "carpet": [
           {
            "aaxis": {
             "endlinecolor": "#2a3f5f",
             "gridcolor": "white",
             "linecolor": "white",
             "minorgridcolor": "white",
             "startlinecolor": "#2a3f5f"
            },
            "baxis": {
             "endlinecolor": "#2a3f5f",
             "gridcolor": "white",
             "linecolor": "white",
             "minorgridcolor": "white",
             "startlinecolor": "#2a3f5f"
            },
            "type": "carpet"
           }
          ],
          "choropleth": [
           {
            "colorbar": {
             "outlinewidth": 0,
             "ticks": ""
            },
            "type": "choropleth"
           }
          ],
          "contour": [
           {
            "colorbar": {
             "outlinewidth": 0,
             "ticks": ""
            },
            "colorscale": [
             [
              0,
              "#0d0887"
             ],
             [
              0.1111111111111111,
              "#46039f"
             ],
             [
              0.2222222222222222,
              "#7201a8"
             ],
             [
              0.3333333333333333,
              "#9c179e"
             ],
             [
              0.4444444444444444,
              "#bd3786"
             ],
             [
              0.5555555555555556,
              "#d8576b"
             ],
             [
              0.6666666666666666,
              "#ed7953"
             ],
             [
              0.7777777777777778,
              "#fb9f3a"
             ],
             [
              0.8888888888888888,
              "#fdca26"
             ],
             [
              1,
              "#f0f921"
             ]
            ],
            "type": "contour"
           }
          ],
          "contourcarpet": [
           {
            "colorbar": {
             "outlinewidth": 0,
             "ticks": ""
            },
            "type": "contourcarpet"
           }
          ],
          "heatmap": [
           {
            "colorbar": {
             "outlinewidth": 0,
             "ticks": ""
            },
            "colorscale": [
             [
              0,
              "#0d0887"
             ],
             [
              0.1111111111111111,
              "#46039f"
             ],
             [
              0.2222222222222222,
              "#7201a8"
             ],
             [
              0.3333333333333333,
              "#9c179e"
             ],
             [
              0.4444444444444444,
              "#bd3786"
             ],
             [
              0.5555555555555556,
              "#d8576b"
             ],
             [
              0.6666666666666666,
              "#ed7953"
             ],
             [
              0.7777777777777778,
              "#fb9f3a"
             ],
             [
              0.8888888888888888,
              "#fdca26"
             ],
             [
              1,
              "#f0f921"
             ]
            ],
            "type": "heatmap"
           }
          ],
          "histogram": [
           {
            "marker": {
             "pattern": {
              "fillmode": "overlay",
              "size": 10,
              "solidity": 0.2
             }
            },
            "type": "histogram"
           }
          ],
          "histogram2d": [
           {
            "colorbar": {
             "outlinewidth": 0,
             "ticks": ""
            },
            "colorscale": [
             [
              0,
              "#0d0887"
             ],
             [
              0.1111111111111111,
              "#46039f"
             ],
             [
              0.2222222222222222,
              "#7201a8"
             ],
             [
              0.3333333333333333,
              "#9c179e"
             ],
             [
              0.4444444444444444,
              "#bd3786"
             ],
             [
              0.5555555555555556,
              "#d8576b"
             ],
             [
              0.6666666666666666,
              "#ed7953"
             ],
             [
              0.7777777777777778,
              "#fb9f3a"
             ],
             [
              0.8888888888888888,
              "#fdca26"
             ],
             [
              1,
              "#f0f921"
             ]
            ],
            "type": "histogram2d"
           }
          ],
          "histogram2dcontour": [
           {
            "colorbar": {
             "outlinewidth": 0,
             "ticks": ""
            },
            "colorscale": [
             [
              0,
              "#0d0887"
             ],
             [
              0.1111111111111111,
              "#46039f"
             ],
             [
              0.2222222222222222,
              "#7201a8"
             ],
             [
              0.3333333333333333,
              "#9c179e"
             ],
             [
              0.4444444444444444,
              "#bd3786"
             ],
             [
              0.5555555555555556,
              "#d8576b"
             ],
             [
              0.6666666666666666,
              "#ed7953"
             ],
             [
              0.7777777777777778,
              "#fb9f3a"
             ],
             [
              0.8888888888888888,
              "#fdca26"
             ],
             [
              1,
              "#f0f921"
             ]
            ],
            "type": "histogram2dcontour"
           }
          ],
          "mesh3d": [
           {
            "colorbar": {
             "outlinewidth": 0,
             "ticks": ""
            },
            "type": "mesh3d"
           }
          ],
          "parcoords": [
           {
            "line": {
             "colorbar": {
              "outlinewidth": 0,
              "ticks": ""
             }
            },
            "type": "parcoords"
           }
          ],
          "pie": [
           {
            "automargin": true,
            "type": "pie"
           }
          ],
          "scatter": [
           {
            "fillpattern": {
             "fillmode": "overlay",
             "size": 10,
             "solidity": 0.2
            },
            "type": "scatter"
           }
          ],
          "scatter3d": [
           {
            "line": {
             "colorbar": {
              "outlinewidth": 0,
              "ticks": ""
             }
            },
            "marker": {
             "colorbar": {
              "outlinewidth": 0,
              "ticks": ""
             }
            },
            "type": "scatter3d"
           }
          ],
          "scattercarpet": [
           {
            "marker": {
             "colorbar": {
              "outlinewidth": 0,
              "ticks": ""
             }
            },
            "type": "scattercarpet"
           }
          ],
          "scattergeo": [
           {
            "marker": {
             "colorbar": {
              "outlinewidth": 0,
              "ticks": ""
             }
            },
            "type": "scattergeo"
           }
          ],
          "scattergl": [
           {
            "marker": {
             "colorbar": {
              "outlinewidth": 0,
              "ticks": ""
             }
            },
            "type": "scattergl"
           }
          ],
          "scattermap": [
           {
            "marker": {
             "colorbar": {
              "outlinewidth": 0,
              "ticks": ""
             }
            },
            "type": "scattermap"
           }
          ],
          "scattermapbox": [
           {
            "marker": {
             "colorbar": {
              "outlinewidth": 0,
              "ticks": ""
             }
            },
            "type": "scattermapbox"
           }
          ],
          "scatterpolar": [
           {
            "marker": {
             "colorbar": {
              "outlinewidth": 0,
              "ticks": ""
             }
            },
            "type": "scatterpolar"
           }
          ],
          "scatterpolargl": [
           {
            "marker": {
             "colorbar": {
              "outlinewidth": 0,
              "ticks": ""
             }
            },
            "type": "scatterpolargl"
           }
          ],
          "scatterternary": [
           {
            "marker": {
             "colorbar": {
              "outlinewidth": 0,
              "ticks": ""
             }
            },
            "type": "scatterternary"
           }
          ],
          "surface": [
           {
            "colorbar": {
             "outlinewidth": 0,
             "ticks": ""
            },
            "colorscale": [
             [
              0,
              "#0d0887"
             ],
             [
              0.1111111111111111,
              "#46039f"
             ],
             [
              0.2222222222222222,
              "#7201a8"
             ],
             [
              0.3333333333333333,
              "#9c179e"
             ],
             [
              0.4444444444444444,
              "#bd3786"
             ],
             [
              0.5555555555555556,
              "#d8576b"
             ],
             [
              0.6666666666666666,
              "#ed7953"
             ],
             [
              0.7777777777777778,
              "#fb9f3a"
             ],
             [
              0.8888888888888888,
              "#fdca26"
             ],
             [
              1,
              "#f0f921"
             ]
            ],
            "type": "surface"
           }
          ],
          "table": [
           {
            "cells": {
             "fill": {
              "color": "#EBF0F8"
             },
             "line": {
              "color": "white"
             }
            },
            "header": {
             "fill": {
              "color": "#C8D4E3"
             },
             "line": {
              "color": "white"
             }
            },
            "type": "table"
           }
          ]
         },
         "layout": {
          "annotationdefaults": {
           "arrowcolor": "#2a3f5f",
           "arrowhead": 0,
           "arrowwidth": 1
          },
          "autotypenumbers": "strict",
          "coloraxis": {
           "colorbar": {
            "outlinewidth": 0,
            "ticks": ""
           }
          },
          "colorscale": {
           "diverging": [
            [
             0,
             "#8e0152"
            ],
            [
             0.1,
             "#c51b7d"
            ],
            [
             0.2,
             "#de77ae"
            ],
            [
             0.3,
             "#f1b6da"
            ],
            [
             0.4,
             "#fde0ef"
            ],
            [
             0.5,
             "#f7f7f7"
            ],
            [
             0.6,
             "#e6f5d0"
            ],
            [
             0.7,
             "#b8e186"
            ],
            [
             0.8,
             "#7fbc41"
            ],
            [
             0.9,
             "#4d9221"
            ],
            [
             1,
             "#276419"
            ]
           ],
           "sequential": [
            [
             0,
             "#0d0887"
            ],
            [
             0.1111111111111111,
             "#46039f"
            ],
            [
             0.2222222222222222,
             "#7201a8"
            ],
            [
             0.3333333333333333,
             "#9c179e"
            ],
            [
             0.4444444444444444,
             "#bd3786"
            ],
            [
             0.5555555555555556,
             "#d8576b"
            ],
            [
             0.6666666666666666,
             "#ed7953"
            ],
            [
             0.7777777777777778,
             "#fb9f3a"
            ],
            [
             0.8888888888888888,
             "#fdca26"
            ],
            [
             1,
             "#f0f921"
            ]
           ],
           "sequentialminus": [
            [
             0,
             "#0d0887"
            ],
            [
             0.1111111111111111,
             "#46039f"
            ],
            [
             0.2222222222222222,
             "#7201a8"
            ],
            [
             0.3333333333333333,
             "#9c179e"
            ],
            [
             0.4444444444444444,
             "#bd3786"
            ],
            [
             0.5555555555555556,
             "#d8576b"
            ],
            [
             0.6666666666666666,
             "#ed7953"
            ],
            [
             0.7777777777777778,
             "#fb9f3a"
            ],
            [
             0.8888888888888888,
             "#fdca26"
            ],
            [
             1,
             "#f0f921"
            ]
           ]
          },
          "colorway": [
           "#636efa",
           "#EF553B",
           "#00cc96",
           "#ab63fa",
           "#FFA15A",
           "#19d3f3",
           "#FF6692",
           "#B6E880",
           "#FF97FF",
           "#FECB52"
          ],
          "font": {
           "color": "#2a3f5f"
          },
          "geo": {
           "bgcolor": "white",
           "lakecolor": "white",
           "landcolor": "#E5ECF6",
           "showlakes": true,
           "showland": true,
           "subunitcolor": "white"
          },
          "hoverlabel": {
           "align": "left"
          },
          "hovermode": "closest",
          "mapbox": {
           "style": "light"
          },
          "paper_bgcolor": "white",
          "plot_bgcolor": "#E5ECF6",
          "polar": {
           "angularaxis": {
            "gridcolor": "white",
            "linecolor": "white",
            "ticks": ""
           },
           "bgcolor": "#E5ECF6",
           "radialaxis": {
            "gridcolor": "white",
            "linecolor": "white",
            "ticks": ""
           }
          },
          "scene": {
           "xaxis": {
            "backgroundcolor": "#E5ECF6",
            "gridcolor": "white",
            "gridwidth": 2,
            "linecolor": "white",
            "showbackground": true,
            "ticks": "",
            "zerolinecolor": "white"
           },
           "yaxis": {
            "backgroundcolor": "#E5ECF6",
            "gridcolor": "white",
            "gridwidth": 2,
            "linecolor": "white",
            "showbackground": true,
            "ticks": "",
            "zerolinecolor": "white"
           },
           "zaxis": {
            "backgroundcolor": "#E5ECF6",
            "gridcolor": "white",
            "gridwidth": 2,
            "linecolor": "white",
            "showbackground": true,
            "ticks": "",
            "zerolinecolor": "white"
           }
          },
          "shapedefaults": {
           "line": {
            "color": "#2a3f5f"
           }
          },
          "ternary": {
           "aaxis": {
            "gridcolor": "white",
            "linecolor": "white",
            "ticks": ""
           },
           "baxis": {
            "gridcolor": "white",
            "linecolor": "white",
            "ticks": ""
           },
           "bgcolor": "#E5ECF6",
           "caxis": {
            "gridcolor": "white",
            "linecolor": "white",
            "ticks": ""
           }
          },
          "title": {
           "x": 0.05
          },
          "xaxis": {
           "automargin": true,
           "gridcolor": "white",
           "linecolor": "white",
           "ticks": "",
           "title": {
            "standoff": 15
           },
           "zerolinecolor": "white",
           "zerolinewidth": 2
          },
          "yaxis": {
           "automargin": true,
           "gridcolor": "white",
           "linecolor": "white",
           "ticks": "",
           "title": {
            "standoff": 15
           },
           "zerolinecolor": "white",
           "zerolinewidth": 2
          }
         }
        },
        "title": {
         "text": "SPY: Std of log returns by volume decile"
        },
        "xaxis": {
         "anchor": "y",
         "domain": [
          0,
          1
         ],
         "title": {
          "text": "vol_decile"
         }
        },
        "yaxis": {
         "anchor": "x",
         "domain": [
          0,
          1
         ],
         "title": {
          "text": "std(log_return)"
         }
        }
       }
      }
     },
     "metadata": {},
     "output_type": "display_data"
    }
   ],
   "source": [
    "df[\"abs_ret\"] = df[\"log_return\"].abs()\n",
    "\n",
    "fit_vol, ct_vol = run_ols_hac(\n",
    "    y = df[\"abs_ret\"],\n",
    "    X = df[[\"volume_pct\"]],\n",
    "    lags = 10\n",
    ")\n",
    "pretty_print(ct_vol, f\"{sym0}: |log_return| ~ volume_pct  (HAC)\")\n",
    "\n",
    "# conditional std by volume decile\n",
    "df[\"vol_decile\"] = pd.qcut(df[\"volume_pct\"], 10, labels=False) + 1\n",
    "cond = df.groupby(\"vol_decile\")[\"log_return\"].std().reset_index()\n",
    "\n",
    "fig = px.line(cond, x=\"vol_decile\", y=\"log_return\",\n",
    "              title=f\"{sym0}: Std of log returns by volume decile\",\n",
    "              markers=True)\n",
    "fig.update_layout(yaxis_title=\"std(log_return)\")\n",
    "fig.show()\n"
   ]
  },
  {
   "cell_type": "code",
   "execution_count": 6,
   "id": "a8024546",
   "metadata": {},
   "outputs": [
    {
     "data": {
      "application/vnd.plotly.v1+json": {
       "config": {
        "plotlyServerURL": "https://plot.ly"
       },
       "data": [
        {
         "hovertemplate": "time=%{x}<br>beta=%{y}<extra></extra>",
         "legendgroup": "",
         "line": {
          "color": "#636efa",
          "dash": "solid"
         },
         "marker": {
          "symbol": "circle"
         },
         "mode": "lines",
         "name": "",
         "orientation": "v",
         "showlegend": false,
         "type": "scatter",
         "x": [
          "09:31",
          "09:33",
          "09:34",
          "09:35",
          "09:36",
          "09:37",
          "09:38",
          "09:39",
          "09:40",
          "09:41",
          "09:42",
          "09:43",
          "09:44",
          "09:45",
          "09:46",
          "09:47",
          "09:48",
          "09:49",
          "09:50",
          "09:51",
          "09:52",
          "09:53",
          "09:54",
          "09:55",
          "09:56",
          "09:57",
          "09:58",
          "09:59",
          "10:00",
          "10:01",
          "10:02",
          "10:03",
          "10:04",
          "10:05",
          "10:06",
          "10:07",
          "10:08",
          "10:09",
          "10:10",
          "10:11",
          "10:12",
          "10:13",
          "10:14",
          "10:15",
          "10:16",
          "10:17",
          "10:18",
          "10:19",
          "10:20",
          "10:21",
          "10:22",
          "10:23",
          "10:24",
          "10:25",
          "10:26",
          "10:27",
          "10:28",
          "10:29",
          "10:30",
          "10:31",
          "10:32",
          "10:33",
          "10:34",
          "10:35",
          "10:36",
          "10:37",
          "10:38",
          "10:39",
          "10:40",
          "10:41",
          "10:42",
          "10:43",
          "10:44",
          "10:45",
          "10:46",
          "10:47",
          "10:48",
          "10:49",
          "10:50",
          "10:51",
          "10:52",
          "10:53",
          "10:54",
          "10:55",
          "10:56",
          "10:57",
          "10:58",
          "10:59",
          "11:00",
          "11:01",
          "11:02",
          "11:03",
          "11:04",
          "11:05",
          "11:06",
          "11:07",
          "11:08",
          "11:09",
          "11:10",
          "11:11",
          "11:12",
          "11:13",
          "11:14",
          "11:15",
          "11:16",
          "11:17",
          "11:18",
          "11:19",
          "11:20",
          "11:21",
          "11:22",
          "11:23",
          "11:24",
          "11:25",
          "11:26",
          "11:27",
          "11:28",
          "11:29",
          "11:30",
          "11:31",
          "11:32",
          "11:33",
          "11:34",
          "11:35",
          "11:36",
          "11:37",
          "11:38",
          "11:39",
          "11:40",
          "11:41",
          "11:42",
          "11:43",
          "11:44",
          "11:45",
          "11:46",
          "11:47",
          "11:48",
          "11:49",
          "11:50",
          "11:51",
          "11:52",
          "11:53",
          "11:54",
          "11:55",
          "11:56",
          "11:57",
          "11:58",
          "11:59",
          "12:00",
          "12:01",
          "12:02",
          "12:03",
          "12:04",
          "12:05",
          "12:06",
          "12:07",
          "12:08",
          "12:09",
          "12:10",
          "12:11",
          "12:12",
          "12:13",
          "12:14",
          "12:15",
          "12:16",
          "12:17",
          "12:18",
          "12:19",
          "12:20",
          "12:21",
          "12:22",
          "12:23",
          "12:24",
          "12:25",
          "12:26",
          "12:27",
          "12:28",
          "12:29",
          "12:30",
          "12:31",
          "12:32",
          "12:33",
          "12:34",
          "12:35",
          "12:36",
          "12:37",
          "12:38",
          "12:39",
          "12:40",
          "12:41",
          "12:42",
          "12:43",
          "12:44",
          "12:45",
          "12:46",
          "12:47",
          "12:48",
          "12:49",
          "12:50",
          "12:51",
          "12:52",
          "12:53",
          "12:54",
          "12:55",
          "12:56",
          "12:57",
          "12:58",
          "12:59",
          "13:00",
          "13:01",
          "13:02",
          "13:03",
          "13:04",
          "13:05",
          "13:06",
          "13:07",
          "13:08",
          "13:09",
          "13:10",
          "13:11",
          "13:12",
          "13:13",
          "13:14",
          "13:15",
          "13:16",
          "13:17",
          "13:18",
          "13:19",
          "13:20",
          "13:21",
          "13:22",
          "13:23",
          "13:24",
          "13:25",
          "13:26",
          "13:27",
          "13:28",
          "13:29",
          "13:30",
          "13:31",
          "13:32",
          "13:33",
          "13:34",
          "13:35",
          "13:36",
          "13:37",
          "13:38",
          "13:39",
          "13:40",
          "13:41",
          "13:42",
          "13:43",
          "13:44",
          "13:45",
          "13:46",
          "13:47",
          "13:48",
          "13:49",
          "13:50",
          "13:51",
          "13:52",
          "13:53",
          "13:54",
          "13:55",
          "13:56",
          "13:57",
          "13:58",
          "13:59",
          "14:00",
          "14:01",
          "14:02",
          "14:03",
          "14:04",
          "14:05",
          "14:06",
          "14:07",
          "14:08",
          "14:09",
          "14:10",
          "14:11",
          "14:12",
          "14:13",
          "14:14",
          "14:15",
          "14:16",
          "14:17",
          "14:18",
          "14:19",
          "14:20",
          "14:21",
          "14:22",
          "14:23",
          "14:24",
          "14:25",
          "14:26",
          "14:27",
          "14:28",
          "14:29",
          "14:30",
          "14:31",
          "14:32",
          "14:33",
          "14:34",
          "14:35",
          "14:36",
          "14:37",
          "14:38",
          "14:39",
          "14:40",
          "14:41",
          "14:42",
          "14:43",
          "14:44",
          "14:45",
          "14:46",
          "14:47",
          "14:48",
          "14:49",
          "14:50",
          "14:51",
          "14:52",
          "14:53",
          "14:54",
          "14:55",
          "14:56",
          "14:57",
          "14:58",
          "14:59",
          "15:00",
          "15:01",
          "15:02",
          "15:03",
          "15:04",
          "15:05",
          "15:06",
          "15:07",
          "15:08",
          "15:09",
          "15:10",
          "15:11",
          "15:12",
          "15:13",
          "15:14",
          "15:15",
          "15:16",
          "15:17",
          "15:18",
          "15:19",
          "15:20",
          "15:21",
          "15:22",
          "15:23",
          "15:24",
          "15:25",
          "15:26",
          "15:27",
          "15:28",
          "15:29",
          "15:30",
          "15:31",
          "15:32",
          "15:33",
          "15:34",
          "15:35",
          "15:36",
          "15:37",
          "15:38",
          "15:39",
          "15:40",
          "15:41",
          "15:42",
          "15:43",
          "15:44",
          "15:45",
          "15:46",
          "15:47",
          "15:48",
          "15:49",
          "15:50",
          "15:51",
          "15:52",
          "15:53",
          "15:54",
          "15:55",
          "15:56",
          "15:57",
          "15:58",
          "15:59"
         ],
         "xaxis": "x",
         "y": {
          "bdata": "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",
          "dtype": "f8"
         },
         "yaxis": "y"
        }
       ],
       "layout": {
        "legend": {
         "tracegroupgap": 0
        },
        "template": {
         "data": {
          "bar": [
           {
            "error_x": {
             "color": "#2a3f5f"
            },
            "error_y": {
             "color": "#2a3f5f"
            },
            "marker": {
             "line": {
              "color": "#E5ECF6",
              "width": 0.5
             },
             "pattern": {
              "fillmode": "overlay",
              "size": 10,
              "solidity": 0.2
             }
            },
            "type": "bar"
           }
          ],
          "barpolar": [
           {
            "marker": {
             "line": {
              "color": "#E5ECF6",
              "width": 0.5
             },
             "pattern": {
              "fillmode": "overlay",
              "size": 10,
              "solidity": 0.2
             }
            },
            "type": "barpolar"
           }
          ],
          "carpet": [
           {
            "aaxis": {
             "endlinecolor": "#2a3f5f",
             "gridcolor": "white",
             "linecolor": "white",
             "minorgridcolor": "white",
             "startlinecolor": "#2a3f5f"
            },
            "baxis": {
             "endlinecolor": "#2a3f5f",
             "gridcolor": "white",
             "linecolor": "white",
             "minorgridcolor": "white",
             "startlinecolor": "#2a3f5f"
            },
            "type": "carpet"
           }
          ],
          "choropleth": [
           {
            "colorbar": {
             "outlinewidth": 0,
             "ticks": ""
            },
            "type": "choropleth"
           }
          ],
          "contour": [
           {
            "colorbar": {
             "outlinewidth": 0,
             "ticks": ""
            },
            "colorscale": [
             [
              0,
              "#0d0887"
             ],
             [
              0.1111111111111111,
              "#46039f"
             ],
             [
              0.2222222222222222,
              "#7201a8"
             ],
             [
              0.3333333333333333,
              "#9c179e"
             ],
             [
              0.4444444444444444,
              "#bd3786"
             ],
             [
              0.5555555555555556,
              "#d8576b"
             ],
             [
              0.6666666666666666,
              "#ed7953"
             ],
             [
              0.7777777777777778,
              "#fb9f3a"
             ],
             [
              0.8888888888888888,
              "#fdca26"
             ],
             [
              1,
              "#f0f921"
             ]
            ],
            "type": "contour"
           }
          ],
          "contourcarpet": [
           {
            "colorbar": {
             "outlinewidth": 0,
             "ticks": ""
            },
            "type": "contourcarpet"
           }
          ],
          "heatmap": [
           {
            "colorbar": {
             "outlinewidth": 0,
             "ticks": ""
            },
            "colorscale": [
             [
              0,
              "#0d0887"
             ],
             [
              0.1111111111111111,
              "#46039f"
             ],
             [
              0.2222222222222222,
              "#7201a8"
             ],
             [
              0.3333333333333333,
              "#9c179e"
             ],
             [
              0.4444444444444444,
              "#bd3786"
             ],
             [
              0.5555555555555556,
              "#d8576b"
             ],
             [
              0.6666666666666666,
              "#ed7953"
             ],
             [
              0.7777777777777778,
              "#fb9f3a"
             ],
             [
              0.8888888888888888,
              "#fdca26"
             ],
             [
              1,
              "#f0f921"
             ]
            ],
            "type": "heatmap"
           }
          ],
          "histogram": [
           {
            "marker": {
             "pattern": {
              "fillmode": "overlay",
              "size": 10,
              "solidity": 0.2
             }
            },
            "type": "histogram"
           }
          ],
          "histogram2d": [
           {
            "colorbar": {
             "outlinewidth": 0,
             "ticks": ""
            },
            "colorscale": [
             [
              0,
              "#0d0887"
             ],
             [
              0.1111111111111111,
              "#46039f"
             ],
             [
              0.2222222222222222,
              "#7201a8"
             ],
             [
              0.3333333333333333,
              "#9c179e"
             ],
             [
              0.4444444444444444,
              "#bd3786"
             ],
             [
              0.5555555555555556,
              "#d8576b"
             ],
             [
              0.6666666666666666,
              "#ed7953"
             ],
             [
              0.7777777777777778,
              "#fb9f3a"
             ],
             [
              0.8888888888888888,
              "#fdca26"
             ],
             [
              1,
              "#f0f921"
             ]
            ],
            "type": "histogram2d"
           }
          ],
          "histogram2dcontour": [
           {
            "colorbar": {
             "outlinewidth": 0,
             "ticks": ""
            },
            "colorscale": [
             [
              0,
              "#0d0887"
             ],
             [
              0.1111111111111111,
              "#46039f"
             ],
             [
              0.2222222222222222,
              "#7201a8"
             ],
             [
              0.3333333333333333,
              "#9c179e"
             ],
             [
              0.4444444444444444,
              "#bd3786"
             ],
             [
              0.5555555555555556,
              "#d8576b"
             ],
             [
              0.6666666666666666,
              "#ed7953"
             ],
             [
              0.7777777777777778,
              "#fb9f3a"
             ],
             [
              0.8888888888888888,
              "#fdca26"
             ],
             [
              1,
              "#f0f921"
             ]
            ],
            "type": "histogram2dcontour"
           }
          ],
          "mesh3d": [
           {
            "colorbar": {
             "outlinewidth": 0,
             "ticks": ""
            },
            "type": "mesh3d"
           }
          ],
          "parcoords": [
           {
            "line": {
             "colorbar": {
              "outlinewidth": 0,
              "ticks": ""
             }
            },
            "type": "parcoords"
           }
          ],
          "pie": [
           {
            "automargin": true,
            "type": "pie"
           }
          ],
          "scatter": [
           {
            "fillpattern": {
             "fillmode": "overlay",
             "size": 10,
             "solidity": 0.2
            },
            "type": "scatter"
           }
          ],
          "scatter3d": [
           {
            "line": {
             "colorbar": {
              "outlinewidth": 0,
              "ticks": ""
             }
            },
            "marker": {
             "colorbar": {
              "outlinewidth": 0,
              "ticks": ""
             }
            },
            "type": "scatter3d"
           }
          ],
          "scattercarpet": [
           {
            "marker": {
             "colorbar": {
              "outlinewidth": 0,
              "ticks": ""
             }
            },
            "type": "scattercarpet"
           }
          ],
          "scattergeo": [
           {
            "marker": {
             "colorbar": {
              "outlinewidth": 0,
              "ticks": ""
             }
            },
            "type": "scattergeo"
           }
          ],
          "scattergl": [
           {
            "marker": {
             "colorbar": {
              "outlinewidth": 0,
              "ticks": ""
             }
            },
            "type": "scattergl"
           }
          ],
          "scattermap": [
           {
            "marker": {
             "colorbar": {
              "outlinewidth": 0,
              "ticks": ""
             }
            },
            "type": "scattermap"
           }
          ],
          "scattermapbox": [
           {
            "marker": {
             "colorbar": {
              "outlinewidth": 0,
              "ticks": ""
             }
            },
            "type": "scattermapbox"
           }
          ],
          "scatterpolar": [
           {
            "marker": {
             "colorbar": {
              "outlinewidth": 0,
              "ticks": ""
             }
            },
            "type": "scatterpolar"
           }
          ],
          "scatterpolargl": [
           {
            "marker": {
             "colorbar": {
              "outlinewidth": 0,
              "ticks": ""
             }
            },
            "type": "scatterpolargl"
           }
          ],
          "scatterternary": [
           {
            "marker": {
             "colorbar": {
              "outlinewidth": 0,
              "ticks": ""
             }
            },
            "type": "scatterternary"
           }
          ],
          "surface": [
           {
            "colorbar": {
             "outlinewidth": 0,
             "ticks": ""
            },
            "colorscale": [
             [
              0,
              "#0d0887"
             ],
             [
              0.1111111111111111,
              "#46039f"
             ],
             [
              0.2222222222222222,
              "#7201a8"
             ],
             [
              0.3333333333333333,
              "#9c179e"
             ],
             [
              0.4444444444444444,
              "#bd3786"
             ],
             [
              0.5555555555555556,
              "#d8576b"
             ],
             [
              0.6666666666666666,
              "#ed7953"
             ],
             [
              0.7777777777777778,
              "#fb9f3a"
             ],
             [
              0.8888888888888888,
              "#fdca26"
             ],
             [
              1,
              "#f0f921"
             ]
            ],
            "type": "surface"
           }
          ],
          "table": [
           {
            "cells": {
             "fill": {
              "color": "#EBF0F8"
             },
             "line": {
              "color": "white"
             }
            },
            "header": {
             "fill": {
              "color": "#C8D4E3"
             },
             "line": {
              "color": "white"
             }
            },
            "type": "table"
           }
          ]
         },
         "layout": {
          "annotationdefaults": {
           "arrowcolor": "#2a3f5f",
           "arrowhead": 0,
           "arrowwidth": 1
          },
          "autotypenumbers": "strict",
          "coloraxis": {
           "colorbar": {
            "outlinewidth": 0,
            "ticks": ""
           }
          },
          "colorscale": {
           "diverging": [
            [
             0,
             "#8e0152"
            ],
            [
             0.1,
             "#c51b7d"
            ],
            [
             0.2,
             "#de77ae"
            ],
            [
             0.3,
             "#f1b6da"
            ],
            [
             0.4,
             "#fde0ef"
            ],
            [
             0.5,
             "#f7f7f7"
            ],
            [
             0.6,
             "#e6f5d0"
            ],
            [
             0.7,
             "#b8e186"
            ],
            [
             0.8,
             "#7fbc41"
            ],
            [
             0.9,
             "#4d9221"
            ],
            [
             1,
             "#276419"
            ]
           ],
           "sequential": [
            [
             0,
             "#0d0887"
            ],
            [
             0.1111111111111111,
             "#46039f"
            ],
            [
             0.2222222222222222,
             "#7201a8"
            ],
            [
             0.3333333333333333,
             "#9c179e"
            ],
            [
             0.4444444444444444,
             "#bd3786"
            ],
            [
             0.5555555555555556,
             "#d8576b"
            ],
            [
             0.6666666666666666,
             "#ed7953"
            ],
            [
             0.7777777777777778,
             "#fb9f3a"
            ],
            [
             0.8888888888888888,
             "#fdca26"
            ],
            [
             1,
             "#f0f921"
            ]
           ],
           "sequentialminus": [
            [
             0,
             "#0d0887"
            ],
            [
             0.1111111111111111,
             "#46039f"
            ],
            [
             0.2222222222222222,
             "#7201a8"
            ],
            [
             0.3333333333333333,
             "#9c179e"
            ],
            [
             0.4444444444444444,
             "#bd3786"
            ],
            [
             0.5555555555555556,
             "#d8576b"
            ],
            [
             0.6666666666666666,
             "#ed7953"
            ],
            [
             0.7777777777777778,
             "#fb9f3a"
            ],
            [
             0.8888888888888888,
             "#fdca26"
            ],
            [
             1,
             "#f0f921"
            ]
           ]
          },
          "colorway": [
           "#636efa",
           "#EF553B",
           "#00cc96",
           "#ab63fa",
           "#FFA15A",
           "#19d3f3",
           "#FF6692",
           "#B6E880",
           "#FF97FF",
           "#FECB52"
          ],
          "font": {
           "color": "#2a3f5f"
          },
          "geo": {
           "bgcolor": "white",
           "lakecolor": "white",
           "landcolor": "#E5ECF6",
           "showlakes": true,
           "showland": true,
           "subunitcolor": "white"
          },
          "hoverlabel": {
           "align": "left"
          },
          "hovermode": "closest",
          "mapbox": {
           "style": "light"
          },
          "paper_bgcolor": "white",
          "plot_bgcolor": "#E5ECF6",
          "polar": {
           "angularaxis": {
            "gridcolor": "white",
            "linecolor": "white",
            "ticks": ""
           },
           "bgcolor": "#E5ECF6",
           "radialaxis": {
            "gridcolor": "white",
            "linecolor": "white",
            "ticks": ""
           }
          },
          "scene": {
           "xaxis": {
            "backgroundcolor": "#E5ECF6",
            "gridcolor": "white",
            "gridwidth": 2,
            "linecolor": "white",
            "showbackground": true,
            "ticks": "",
            "zerolinecolor": "white"
           },
           "yaxis": {
            "backgroundcolor": "#E5ECF6",
            "gridcolor": "white",
            "gridwidth": 2,
            "linecolor": "white",
            "showbackground": true,
            "ticks": "",
            "zerolinecolor": "white"
           },
           "zaxis": {
            "backgroundcolor": "#E5ECF6",
            "gridcolor": "white",
            "gridwidth": 2,
            "linecolor": "white",
            "showbackground": true,
            "ticks": "",
            "zerolinecolor": "white"
           }
          },
          "shapedefaults": {
           "line": {
            "color": "#2a3f5f"
           }
          },
          "ternary": {
           "aaxis": {
            "gridcolor": "white",
            "linecolor": "white",
            "ticks": ""
           },
           "baxis": {
            "gridcolor": "white",
            "linecolor": "white",
            "ticks": ""
           },
           "bgcolor": "#E5ECF6",
           "caxis": {
            "gridcolor": "white",
            "linecolor": "white",
            "ticks": ""
           }
          },
          "title": {
           "x": 0.05
          },
          "xaxis": {
           "automargin": true,
           "gridcolor": "white",
           "linecolor": "white",
           "ticks": "",
           "title": {
            "standoff": 15
           },
           "zerolinecolor": "white",
           "zerolinewidth": 2
          },
          "yaxis": {
           "automargin": true,
           "gridcolor": "white",
           "linecolor": "white",
           "ticks": "",
           "title": {
            "standoff": 15
           },
           "zerolinecolor": "white",
           "zerolinewidth": 2
          }
         }
        },
        "title": {
         "text": "SPY: ToD beta of lag_return → next_return"
        },
        "xaxis": {
         "anchor": "y",
         "domain": [
          0,
          1
         ],
         "tickangle": 60,
         "title": {
          "text": "time"
         }
        },
        "yaxis": {
         "anchor": "x",
         "domain": [
          0,
          1
         ],
         "title": {
          "text": "beta"
         }
        }
       }
      }
     },
     "metadata": {},
     "output_type": "display_data"
    },
    {
     "data": {
      "application/vnd.plotly.v1+json": {
       "config": {
        "plotlyServerURL": "https://plot.ly"
       },
       "data": [
        {
         "hovertemplate": "time=%{x}<br>beta=%{y}<extra></extra>",
         "legendgroup": "",
         "line": {
          "color": "#636efa",
          "dash": "solid"
         },
         "marker": {
          "symbol": "circle"
         },
         "mode": "lines",
         "name": "",
         "orientation": "v",
         "showlegend": false,
         "type": "scatter",
         "x": [
          "09:31",
          "09:33",
          "09:34",
          "09:35",
          "09:36",
          "09:37",
          "09:38",
          "09:39",
          "09:40",
          "09:41",
          "09:42",
          "09:43",
          "09:44",
          "09:45",
          "09:46",
          "09:47",
          "09:48",
          "09:49",
          "09:50",
          "09:51",
          "09:52",
          "09:53",
          "09:54",
          "09:55",
          "09:56",
          "09:57",
          "09:58",
          "09:59",
          "10:00",
          "10:01",
          "10:02",
          "10:03",
          "10:04",
          "10:05",
          "10:06",
          "10:07",
          "10:08",
          "10:09",
          "10:10",
          "10:11",
          "10:12",
          "10:13",
          "10:14",
          "10:15",
          "10:16",
          "10:17",
          "10:18",
          "10:19",
          "10:20",
          "10:21",
          "10:22",
          "10:23",
          "10:24",
          "10:25",
          "10:26",
          "10:27",
          "10:28",
          "10:29",
          "10:30",
          "10:31",
          "10:32",
          "10:33",
          "10:34",
          "10:35",
          "10:36",
          "10:37",
          "10:38",
          "10:39",
          "10:40",
          "10:41",
          "10:42",
          "10:43",
          "10:44",
          "10:45",
          "10:46",
          "10:47",
          "10:48",
          "10:49",
          "10:50",
          "10:51",
          "10:52",
          "10:53",
          "10:54",
          "10:55",
          "10:56",
          "10:57",
          "10:58",
          "10:59",
          "11:00",
          "11:01",
          "11:02",
          "11:03",
          "11:04",
          "11:05",
          "11:06",
          "11:07",
          "11:08",
          "11:09",
          "11:10",
          "11:11",
          "11:12",
          "11:13",
          "11:14",
          "11:15",
          "11:16",
          "11:17",
          "11:18",
          "11:19",
          "11:20",
          "11:21",
          "11:22",
          "11:23",
          "11:24",
          "11:25",
          "11:26",
          "11:27",
          "11:28",
          "11:29",
          "11:30",
          "11:31",
          "11:32",
          "11:33",
          "11:34",
          "11:35",
          "11:36",
          "11:37",
          "11:38",
          "11:39",
          "11:40",
          "11:41",
          "11:42",
          "11:43",
          "11:44",
          "11:45",
          "11:46",
          "11:47",
          "11:48",
          "11:49",
          "11:50",
          "11:51",
          "11:52",
          "11:53",
          "11:54",
          "11:55",
          "11:56",
          "11:57",
          "11:58",
          "11:59",
          "12:00",
          "12:01",
          "12:02",
          "12:03",
          "12:04",
          "12:05",
          "12:06",
          "12:07",
          "12:08",
          "12:09",
          "12:10",
          "12:11",
          "12:12",
          "12:13",
          "12:14",
          "12:15",
          "12:16",
          "12:17",
          "12:18",
          "12:19",
          "12:20",
          "12:21",
          "12:22",
          "12:23",
          "12:24",
          "12:25",
          "12:26",
          "12:27",
          "12:28",
          "12:29",
          "12:30",
          "12:31",
          "12:32",
          "12:33",
          "12:34",
          "12:35",
          "12:36",
          "12:37",
          "12:38",
          "12:39",
          "12:40",
          "12:41",
          "12:42",
          "12:43",
          "12:44",
          "12:45",
          "12:46",
          "12:47",
          "12:48",
          "12:49",
          "12:50",
          "12:51",
          "12:52",
          "12:53",
          "12:54",
          "12:55",
          "12:56",
          "12:57",
          "12:58",
          "12:59",
          "13:00",
          "13:01",
          "13:02",
          "13:03",
          "13:04",
          "13:05",
          "13:06",
          "13:07",
          "13:08",
          "13:09",
          "13:10",
          "13:11",
          "13:12",
          "13:13",
          "13:14",
          "13:15",
          "13:16",
          "13:17",
          "13:18",
          "13:19",
          "13:20",
          "13:21",
          "13:22",
          "13:23",
          "13:24",
          "13:25",
          "13:26",
          "13:27",
          "13:28",
          "13:29",
          "13:30",
          "13:31",
          "13:32",
          "13:33",
          "13:34",
          "13:35",
          "13:36",
          "13:37",
          "13:38",
          "13:39",
          "13:40",
          "13:41",
          "13:42",
          "13:43",
          "13:44",
          "13:45",
          "13:46",
          "13:47",
          "13:48",
          "13:49",
          "13:50",
          "13:51",
          "13:52",
          "13:53",
          "13:54",
          "13:55",
          "13:56",
          "13:57",
          "13:58",
          "13:59",
          "14:00",
          "14:01",
          "14:02",
          "14:03",
          "14:04",
          "14:05",
          "14:06",
          "14:07",
          "14:08",
          "14:09",
          "14:10",
          "14:11",
          "14:12",
          "14:13",
          "14:14",
          "14:15",
          "14:16",
          "14:17",
          "14:18",
          "14:19",
          "14:20",
          "14:21",
          "14:22",
          "14:23",
          "14:24",
          "14:25",
          "14:26",
          "14:27",
          "14:28",
          "14:29",
          "14:30",
          "14:31",
          "14:32",
          "14:33",
          "14:34",
          "14:35",
          "14:36",
          "14:37",
          "14:38",
          "14:39",
          "14:40",
          "14:41",
          "14:42",
          "14:43",
          "14:44",
          "14:45",
          "14:46",
          "14:47",
          "14:48",
          "14:49",
          "14:50",
          "14:51",
          "14:52",
          "14:53",
          "14:54",
          "14:55",
          "14:56",
          "14:57",
          "14:58",
          "14:59",
          "15:00",
          "15:01",
          "15:02",
          "15:03",
          "15:04",
          "15:05",
          "15:06",
          "15:07",
          "15:08",
          "15:09",
          "15:10",
          "15:11",
          "15:12",
          "15:13",
          "15:14",
          "15:15",
          "15:16",
          "15:17",
          "15:18",
          "15:19",
          "15:20",
          "15:21",
          "15:22",
          "15:23",
          "15:24",
          "15:25",
          "15:26",
          "15:27",
          "15:28",
          "15:29",
          "15:30",
          "15:31",
          "15:32",
          "15:33",
          "15:34",
          "15:35",
          "15:36",
          "15:37",
          "15:38",
          "15:39",
          "15:40",
          "15:41",
          "15:42",
          "15:43",
          "15:44",
          "15:45",
          "15:46",
          "15:47",
          "15:48",
          "15:49",
          "15:50",
          "15:51",
          "15:52",
          "15:53",
          "15:54",
          "15:55",
          "15:56",
          "15:57",
          "15:58",
          "15:59"
         ],
         "xaxis": "x",
         "y": {
          "bdata": "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",
          "dtype": "f8"
         },
         "yaxis": "y"
        }
       ],
       "layout": {
        "legend": {
         "tracegroupgap": 0
        },
        "template": {
         "data": {
          "bar": [
           {
            "error_x": {
             "color": "#2a3f5f"
            },
            "error_y": {
             "color": "#2a3f5f"
            },
            "marker": {
             "line": {
              "color": "#E5ECF6",
              "width": 0.5
             },
             "pattern": {
              "fillmode": "overlay",
              "size": 10,
              "solidity": 0.2
             }
            },
            "type": "bar"
           }
          ],
          "barpolar": [
           {
            "marker": {
             "line": {
              "color": "#E5ECF6",
              "width": 0.5
             },
             "pattern": {
              "fillmode": "overlay",
              "size": 10,
              "solidity": 0.2
             }
            },
            "type": "barpolar"
           }
          ],
          "carpet": [
           {
            "aaxis": {
             "endlinecolor": "#2a3f5f",
             "gridcolor": "white",
             "linecolor": "white",
             "minorgridcolor": "white",
             "startlinecolor": "#2a3f5f"
            },
            "baxis": {
             "endlinecolor": "#2a3f5f",
             "gridcolor": "white",
             "linecolor": "white",
             "minorgridcolor": "white",
             "startlinecolor": "#2a3f5f"
            },
            "type": "carpet"
           }
          ],
          "choropleth": [
           {
            "colorbar": {
             "outlinewidth": 0,
             "ticks": ""
            },
            "type": "choropleth"
           }
          ],
          "contour": [
           {
            "colorbar": {
             "outlinewidth": 0,
             "ticks": ""
            },
            "colorscale": [
             [
              0,
              "#0d0887"
             ],
             [
              0.1111111111111111,
              "#46039f"
             ],
             [
              0.2222222222222222,
              "#7201a8"
             ],
             [
              0.3333333333333333,
              "#9c179e"
             ],
             [
              0.4444444444444444,
              "#bd3786"
             ],
             [
              0.5555555555555556,
              "#d8576b"
             ],
             [
              0.6666666666666666,
              "#ed7953"
             ],
             [
              0.7777777777777778,
              "#fb9f3a"
             ],
             [
              0.8888888888888888,
              "#fdca26"
             ],
             [
              1,
              "#f0f921"
             ]
            ],
            "type": "contour"
           }
          ],
          "contourcarpet": [
           {
            "colorbar": {
             "outlinewidth": 0,
             "ticks": ""
            },
            "type": "contourcarpet"
           }
          ],
          "heatmap": [
           {
            "colorbar": {
             "outlinewidth": 0,
             "ticks": ""
            },
            "colorscale": [
             [
              0,
              "#0d0887"
             ],
             [
              0.1111111111111111,
              "#46039f"
             ],
             [
              0.2222222222222222,
              "#7201a8"
             ],
             [
              0.3333333333333333,
              "#9c179e"
             ],
             [
              0.4444444444444444,
              "#bd3786"
             ],
             [
              0.5555555555555556,
              "#d8576b"
             ],
             [
              0.6666666666666666,
              "#ed7953"
             ],
             [
              0.7777777777777778,
              "#fb9f3a"
             ],
             [
              0.8888888888888888,
              "#fdca26"
             ],
             [
              1,
              "#f0f921"
             ]
            ],
            "type": "heatmap"
           }
          ],
          "histogram": [
           {
            "marker": {
             "pattern": {
              "fillmode": "overlay",
              "size": 10,
              "solidity": 0.2
             }
            },
            "type": "histogram"
           }
          ],
          "histogram2d": [
           {
            "colorbar": {
             "outlinewidth": 0,
             "ticks": ""
            },
            "colorscale": [
             [
              0,
              "#0d0887"
             ],
             [
              0.1111111111111111,
              "#46039f"
             ],
             [
              0.2222222222222222,
              "#7201a8"
             ],
             [
              0.3333333333333333,
              "#9c179e"
             ],
             [
              0.4444444444444444,
              "#bd3786"
             ],
             [
              0.5555555555555556,
              "#d8576b"
             ],
             [
              0.6666666666666666,
              "#ed7953"
             ],
             [
              0.7777777777777778,
              "#fb9f3a"
             ],
             [
              0.8888888888888888,
              "#fdca26"
             ],
             [
              1,
              "#f0f921"
             ]
            ],
            "type": "histogram2d"
           }
          ],
          "histogram2dcontour": [
           {
            "colorbar": {
             "outlinewidth": 0,
             "ticks": ""
            },
            "colorscale": [
             [
              0,
              "#0d0887"
             ],
             [
              0.1111111111111111,
              "#46039f"
             ],
             [
              0.2222222222222222,
              "#7201a8"
             ],
             [
              0.3333333333333333,
              "#9c179e"
             ],
             [
              0.4444444444444444,
              "#bd3786"
             ],
             [
              0.5555555555555556,
              "#d8576b"
             ],
             [
              0.6666666666666666,
              "#ed7953"
             ],
             [
              0.7777777777777778,
              "#fb9f3a"
             ],
             [
              0.8888888888888888,
              "#fdca26"
             ],
             [
              1,
              "#f0f921"
             ]
            ],
            "type": "histogram2dcontour"
           }
          ],
          "mesh3d": [
           {
            "colorbar": {
             "outlinewidth": 0,
             "ticks": ""
            },
            "type": "mesh3d"
           }
          ],
          "parcoords": [
           {
            "line": {
             "colorbar": {
              "outlinewidth": 0,
              "ticks": ""
             }
            },
            "type": "parcoords"
           }
          ],
          "pie": [
           {
            "automargin": true,
            "type": "pie"
           }
          ],
          "scatter": [
           {
            "fillpattern": {
             "fillmode": "overlay",
             "size": 10,
             "solidity": 0.2
            },
            "type": "scatter"
           }
          ],
          "scatter3d": [
           {
            "line": {
             "colorbar": {
              "outlinewidth": 0,
              "ticks": ""
             }
            },
            "marker": {
             "colorbar": {
              "outlinewidth": 0,
              "ticks": ""
             }
            },
            "type": "scatter3d"
           }
          ],
          "scattercarpet": [
           {
            "marker": {
             "colorbar": {
              "outlinewidth": 0,
              "ticks": ""
             }
            },
            "type": "scattercarpet"
           }
          ],
          "scattergeo": [
           {
            "marker": {
             "colorbar": {
              "outlinewidth": 0,
              "ticks": ""
             }
            },
            "type": "scattergeo"
           }
          ],
          "scattergl": [
           {
            "marker": {
             "colorbar": {
              "outlinewidth": 0,
              "ticks": ""
             }
            },
            "type": "scattergl"
           }
          ],
          "scattermap": [
           {
            "marker": {
             "colorbar": {
              "outlinewidth": 0,
              "ticks": ""
             }
            },
            "type": "scattermap"
           }
          ],
          "scattermapbox": [
           {
            "marker": {
             "colorbar": {
              "outlinewidth": 0,
              "ticks": ""
             }
            },
            "type": "scattermapbox"
           }
          ],
          "scatterpolar": [
           {
            "marker": {
             "colorbar": {
              "outlinewidth": 0,
              "ticks": ""
             }
            },
            "type": "scatterpolar"
           }
          ],
          "scatterpolargl": [
           {
            "marker": {
             "colorbar": {
              "outlinewidth": 0,
              "ticks": ""
             }
            },
            "type": "scatterpolargl"
           }
          ],
          "scatterternary": [
           {
            "marker": {
             "colorbar": {
              "outlinewidth": 0,
              "ticks": ""
             }
            },
            "type": "scatterternary"
           }
          ],
          "surface": [
           {
            "colorbar": {
             "outlinewidth": 0,
             "ticks": ""
            },
            "colorscale": [
             [
              0,
              "#0d0887"
             ],
             [
              0.1111111111111111,
              "#46039f"
             ],
             [
              0.2222222222222222,
              "#7201a8"
             ],
             [
              0.3333333333333333,
              "#9c179e"
             ],
             [
              0.4444444444444444,
              "#bd3786"
             ],
             [
              0.5555555555555556,
              "#d8576b"
             ],
             [
              0.6666666666666666,
              "#ed7953"
             ],
             [
              0.7777777777777778,
              "#fb9f3a"
             ],
             [
              0.8888888888888888,
              "#fdca26"
             ],
             [
              1,
              "#f0f921"
             ]
            ],
            "type": "surface"
           }
          ],
          "table": [
           {
            "cells": {
             "fill": {
              "color": "#EBF0F8"
             },
             "line": {
              "color": "white"
             }
            },
            "header": {
             "fill": {
              "color": "#C8D4E3"
             },
             "line": {
              "color": "white"
             }
            },
            "type": "table"
           }
          ]
         },
         "layout": {
          "annotationdefaults": {
           "arrowcolor": "#2a3f5f",
           "arrowhead": 0,
           "arrowwidth": 1
          },
          "autotypenumbers": "strict",
          "coloraxis": {
           "colorbar": {
            "outlinewidth": 0,
            "ticks": ""
           }
          },
          "colorscale": {
           "diverging": [
            [
             0,
             "#8e0152"
            ],
            [
             0.1,
             "#c51b7d"
            ],
            [
             0.2,
             "#de77ae"
            ],
            [
             0.3,
             "#f1b6da"
            ],
            [
             0.4,
             "#fde0ef"
            ],
            [
             0.5,
             "#f7f7f7"
            ],
            [
             0.6,
             "#e6f5d0"
            ],
            [
             0.7,
             "#b8e186"
            ],
            [
             0.8,
             "#7fbc41"
            ],
            [
             0.9,
             "#4d9221"
            ],
            [
             1,
             "#276419"
            ]
           ],
           "sequential": [
            [
             0,
             "#0d0887"
            ],
            [
             0.1111111111111111,
             "#46039f"
            ],
            [
             0.2222222222222222,
             "#7201a8"
            ],
            [
             0.3333333333333333,
             "#9c179e"
            ],
            [
             0.4444444444444444,
             "#bd3786"
            ],
            [
             0.5555555555555556,
             "#d8576b"
            ],
            [
             0.6666666666666666,
             "#ed7953"
            ],
            [
             0.7777777777777778,
             "#fb9f3a"
            ],
            [
             0.8888888888888888,
             "#fdca26"
            ],
            [
             1,
             "#f0f921"
            ]
           ],
           "sequentialminus": [
            [
             0,
             "#0d0887"
            ],
            [
             0.1111111111111111,
             "#46039f"
            ],
            [
             0.2222222222222222,
             "#7201a8"
            ],
            [
             0.3333333333333333,
             "#9c179e"
            ],
            [
             0.4444444444444444,
             "#bd3786"
            ],
            [
             0.5555555555555556,
             "#d8576b"
            ],
            [
             0.6666666666666666,
             "#ed7953"
            ],
            [
             0.7777777777777778,
             "#fb9f3a"
            ],
            [
             0.8888888888888888,
             "#fdca26"
            ],
            [
             1,
             "#f0f921"
            ]
           ]
          },
          "colorway": [
           "#636efa",
           "#EF553B",
           "#00cc96",
           "#ab63fa",
           "#FFA15A",
           "#19d3f3",
           "#FF6692",
           "#B6E880",
           "#FF97FF",
           "#FECB52"
          ],
          "font": {
           "color": "#2a3f5f"
          },
          "geo": {
           "bgcolor": "white",
           "lakecolor": "white",
           "landcolor": "#E5ECF6",
           "showlakes": true,
           "showland": true,
           "subunitcolor": "white"
          },
          "hoverlabel": {
           "align": "left"
          },
          "hovermode": "closest",
          "mapbox": {
           "style": "light"
          },
          "paper_bgcolor": "white",
          "plot_bgcolor": "#E5ECF6",
          "polar": {
           "angularaxis": {
            "gridcolor": "white",
            "linecolor": "white",
            "ticks": ""
           },
           "bgcolor": "#E5ECF6",
           "radialaxis": {
            "gridcolor": "white",
            "linecolor": "white",
            "ticks": ""
           }
          },
          "scene": {
           "xaxis": {
            "backgroundcolor": "#E5ECF6",
            "gridcolor": "white",
            "gridwidth": 2,
            "linecolor": "white",
            "showbackground": true,
            "ticks": "",
            "zerolinecolor": "white"
           },
           "yaxis": {
            "backgroundcolor": "#E5ECF6",
            "gridcolor": "white",
            "gridwidth": 2,
            "linecolor": "white",
            "showbackground": true,
            "ticks": "",
            "zerolinecolor": "white"
           },
           "zaxis": {
            "backgroundcolor": "#E5ECF6",
            "gridcolor": "white",
            "gridwidth": 2,
            "linecolor": "white",
            "showbackground": true,
            "ticks": "",
            "zerolinecolor": "white"
           }
          },
          "shapedefaults": {
           "line": {
            "color": "#2a3f5f"
           }
          },
          "ternary": {
           "aaxis": {
            "gridcolor": "white",
            "linecolor": "white",
            "ticks": ""
           },
           "baxis": {
            "gridcolor": "white",
            "linecolor": "white",
            "ticks": ""
           },
           "bgcolor": "#E5ECF6",
           "caxis": {
            "gridcolor": "white",
            "linecolor": "white",
            "ticks": ""
           }
          },
          "title": {
           "x": 0.05
          },
          "xaxis": {
           "automargin": true,
           "gridcolor": "white",
           "linecolor": "white",
           "ticks": "",
           "title": {
            "standoff": 15
           },
           "zerolinecolor": "white",
           "zerolinewidth": 2
          },
          "yaxis": {
           "automargin": true,
           "gridcolor": "white",
           "linecolor": "white",
           "ticks": "",
           "title": {
            "standoff": 15
           },
           "zerolinecolor": "white",
           "zerolinewidth": 2
          }
         }
        },
        "title": {
         "text": "SPY: ToD beta of vwap_dev  → next_return"
        },
        "xaxis": {
         "anchor": "y",
         "domain": [
          0,
          1
         ],
         "tickangle": 60,
         "title": {
          "text": "time"
         }
        },
        "yaxis": {
         "anchor": "x",
         "domain": [
          0,
          1
         ],
         "title": {
          "text": "beta"
         }
        }
       }
      }
     },
     "metadata": {},
     "output_type": "display_data"
    }
   ],
   "source": [
    "def per_minute_beta(data, xcol, ycol, hac_lags=5):\n",
    "    out = []\n",
    "    for m, g in data.groupby(\"minute_of_day\"):\n",
    "        if g[xcol].notna().sum()>200:  # enough obs\n",
    "            _, ct = run_ols_hac(g[ycol], g[[xcol]], lags=hac_lags)\n",
    "            out.append({\"minute_of_day\": m, \"beta\": ct.loc[xcol,\"coef\"], \"t\": ct.loc[xcol,\"t\"]})\n",
    "    return pd.DataFrame(out)\n",
    "\n",
    "tod_ar   = per_minute_beta(df, \"lag_return\", \"next_return\", hac_lags=10)\n",
    "tod_vwap = per_minute_beta(df, \"vwap_dev\",  \"next_return\", hac_lags=10)\n",
    "\n",
    "# plots\n",
    "def plot_tod(d, title, y=\"beta\"):\n",
    "    d2 = d.copy()\n",
    "    d2[\"time\"] = pd.to_datetime(d2[\"minute_of_day\"], unit=\"m\").dt.strftime(\"%H:%M\")\n",
    "    fig = px.line(d2, x=\"time\", y=y, title=title)\n",
    "    fig.update_xaxes(tickangle=60)\n",
    "    fig.show()\n",
    "\n",
    "plot_tod(tod_ar,   f\"{sym0}: ToD beta of lag_return → next_return\")\n",
    "plot_tod(tod_vwap, f\"{sym0}: ToD beta of vwap_dev  → next_return\")\n"
   ]
  },
  {
   "cell_type": "code",
   "execution_count": 7,
   "id": "c84e4f6e",
   "metadata": {},
   "outputs": [
    {
     "name": "stdout",
     "output_type": "stream",
     "text": [
      "\n",
      "SPY next_return ~ QQQ lagged return  (HAC)\n",
      "------------------------------------------\n",
      "               coef         t    pvalue\n",
      "const      0.000000  0.321703  0.747678\n",
      "lag_other -0.010344 -3.095460  0.001965\n"
     ]
    },
    {
     "data": {
      "image/png": "[encoded data removed]",
      "text/plain": [
       "<Figure size 700x400 with 1 Axes>"
      ]
     },
     "metadata": {},
     "output_type": "display_data"
    }
   ],
   "source": [
    "if len(symbols) >= 2:\n",
    "    # align\n",
    "    a = all_dfs[symbols[0]][[\"timestamp\",\"log_return\"]].rename(columns={\"log_return\":f\"{symbols[0]}_ret\"})\n",
    "    b = all_dfs[symbols[1]][[\"timestamp\",\"log_return\"]].rename(columns={\"log_return\":f\"{symbols[1]}_ret\"})\n",
    "    ab = a.merge(b, on=\"timestamp\", how=\"inner\").sort_values(\"timestamp\").reset_index(drop=True)\n",
    "\n",
    "    # construct lags & target\n",
    "    ab[\"next_return\"] = ab[f\"{symbols[0]}_ret\"].shift(-1)\n",
    "    ab[\"lag_other\"]   = ab[f\"{symbols[1]}_ret\"].shift(1)\n",
    "    ab = ab.dropna()\n",
    "\n",
    "    fit_x, ct_x = run_ols_hac(\n",
    "        y = ab[\"next_return\"],\n",
    "        X = ab[[\"lag_other\"]],\n",
    "        lags = 10\n",
    "    )\n",
    "    pretty_print(ct_x, f\"{symbols[0]} next_return ~ {symbols[1]} lagged return  (HAC)\")\n",
    "\n",
    "    # show cross-correlogram style bars (up to ±10 lags/leads)\n",
    "    maxlag = 10\n",
    "    xs = []\n",
    "    for L in range(-maxlag, maxlag+1):\n",
    "        xs.append(\n",
    "            ab[f\"{symbols[0]}_ret\"].corr( ab[f\"{symbols[1]}_ret\"].shift(L) )\n",
    "        )\n",
    "    lags = list(range(-maxlag, maxlag+1))\n",
    "    plt.figure(figsize=(7,4))\n",
    "    plt.bar(lags, xs, width=0.8)\n",
    "    plt.axhline(0, color=\"k\", lw=1)\n",
    "    plt.title(f\"Cross-correlation {symbols[0]} vs {symbols[1]} (returns)\")\n",
    "    plt.xlabel(\"QQQ lead (+) / lag (−) minutes\")\n",
    "    plt.ylabel(\"corr\")\n",
    "    plt.show()\n"
   ]
  },
  {
   "cell_type": "code",
   "execution_count": null,
   "id": "a28725a2",
   "metadata": {},
   "outputs": [],
   "source": []
  }
 ],
 "metadata": {
  "kernelspec": {
   "display_name": "trading",
   "language": "python",
   "name": "python3"
  },
  "language_info": {
   "codemirror_mode": {
    "name": "ipython",
    "version": 3
   },
   "file_extension": ".py",
   "mimetype": "text/x-python",
   "name": "python",
   "nbconvert_exporter": "python",
   "pygments_lexer": "ipython3",
   "version": "3.11.13"
  }
 },
 "nbformat": 4,
 "nbformat_minor": 5
}
