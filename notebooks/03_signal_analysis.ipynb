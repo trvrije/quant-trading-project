{
 "cells": [
  {
   "cell_type": "code",
   "execution_count": 1,
   "id": "feccac64",
   "metadata": {},
   "outputs": [
    {
     "name": "stdout",
     "output_type": "stream",
     "text": [
      "Loaded SPY: 391,260 rows\n",
      "Loaded QQQ: 391,260 rows\n",
      "                  timestamp  index symbol     open     high       low   close  \\\n",
      "2 2020-01-02 09:33:00-05:00      2    SPY  323.520  323.830  323.5000  323.77   \n",
      "3 2020-01-02 09:34:00-05:00      3    SPY  323.760  323.860  323.6700  323.68   \n",
      "4 2020-01-02 09:35:00-05:00      4    SPY  323.675  323.980  323.6600  323.93   \n",
      "5 2020-01-02 09:36:00-05:00      5    SPY  323.920  323.975  323.8300  323.92   \n",
      "6 2020-01-02 09:37:00-05:00      6    SPY  323.930  323.960  323.7877  323.82   \n",
      "\n",
      "     volume  trade_count        vwap        date    return  log_return  \\\n",
      "2  246777.0       1585.0  323.690822  2020-01-02  0.000768    0.000768   \n",
      "3  192233.0       1261.0  323.781768  2020-01-02 -0.000278   -0.000278   \n",
      "4  422749.0       2300.0  323.835520  2020-01-02  0.000772    0.000772   \n",
      "5  266637.0       1376.0  323.896165  2020-01-02 -0.000031   -0.000031   \n",
      "6  207102.0       1100.0  323.904850  2020-01-02 -0.000309   -0.000309   \n",
      "\n",
      "   overnight_return  overnight_log_return  lag_return  next_return  vwap_dev  \\\n",
      "2               NaN                   NaN    0.000004    -0.000278  0.000245   \n",
      "3               NaN                   NaN    0.000768     0.000772 -0.000314   \n",
      "4               NaN                   NaN   -0.000278    -0.000031  0.000292   \n",
      "5               NaN                   NaN    0.000772    -0.000309  0.000074   \n",
      "6               NaN                   NaN   -0.000031    -0.000247 -0.000262   \n",
      "\n",
      "   volume_pct  \n",
      "2    0.910256  \n",
      "3    0.858974  \n",
      "4    0.971795  \n",
      "5    0.920513  \n",
      "6    0.884615  \n"
     ]
    }
   ],
   "source": [
    "# ==========================================\n",
    "# 03_signal_analysis.ipynb\n",
    "# Intraday signal exploration and predictability tests\n",
    "# ==========================================\n",
    "\n",
    "import pandas as pd\n",
    "import numpy as np\n",
    "import matplotlib.pyplot as plt\n",
    "import plotly.express as px\n",
    "import statsmodels.api as sm\n",
    "from pathlib import Path\n",
    "\n",
    "# -----------------------\n",
    "# 1. Load cleaned data\n",
    "# -----------------------\n",
    "data_dir = Path(\"../data/processed\")\n",
    "symbols = [\"SPY\", \"QQQ\"]\n",
    "\n",
    "all_dfs = {}\n",
    "for symbol in symbols:\n",
    "    file = data_dir / f\"{symbol}_1min_clean.parquet\"\n",
    "    df = pd.read_parquet(file)\n",
    "    df = df.sort_values(\"timestamp\").reset_index(drop=True)\n",
    "    all_dfs[symbol] = df\n",
    "    print(f\"Loaded {symbol}: {len(df):,} rows\")\n",
    "\n",
    "# Example: use SPY as primary\n",
    "df = all_dfs[\"SPY\"].copy()\n",
    "\n",
    "# Create lagged and next returns for predictive testing\n",
    "df[\"lag_return\"] = df[\"log_return\"].shift(1)\n",
    "df[\"next_return\"] = df[\"log_return\"].shift(-1)\n",
    "\n",
    "# VWAP deviation\n",
    "df[\"vwap_dev\"] = (df[\"close\"] - df[\"vwap\"]) / df[\"vwap\"]\n",
    "\n",
    "# Volume percentile per day\n",
    "df[\"volume_pct\"] = df.groupby(df[\"timestamp\"].dt.date)[\"volume\"].rank(pct=True)\n",
    "\n",
    "df = df.dropna(subset=[\"lag_return\", \"next_return\", \"vwap_dev\", \"volume_pct\"])\n",
    "\n",
    "print(df.head())\n"
   ]
  },
  {
   "cell_type": "code",
   "execution_count": null,
   "id": "c84e4f6e",
   "metadata": {},
   "outputs": [],
   "source": []
  },
  {
   "cell_type": "code",
   "execution_count": null,
   "id": "a28725a2",
   "metadata": {},
   "outputs": [],
   "source": []
  }
 ],
 "metadata": {
  "kernelspec": {
   "display_name": "trading",
   "language": "python",
   "name": "python3"
  },
  "language_info": {
   "codemirror_mode": {
    "name": "ipython",
    "version": 3
   },
   "file_extension": ".py",
   "mimetype": "text/x-python",
   "name": "python",
   "nbconvert_exporter": "python",
   "pygments_lexer": "ipython3",
   "version": "3.11.13"
  }
 },
 "nbformat": 4,
 "nbformat_minor": 5
}
