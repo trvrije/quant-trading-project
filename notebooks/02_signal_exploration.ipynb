{
 "cells": [
  {
   "cell_type": "code",
   "execution_count": 1,
   "id": "f5fe5254",
   "metadata": {},
   "outputs": [
    {
     "name": "stdout",
     "output_type": "stream",
     "text": [
      "Loaded SPY: 391260 rows\n",
      "Loaded QQQ: 391260 rows\n"
     ]
    }
   ],
   "source": [
    "import pandas as pd\n",
    "import numpy as np\n",
    "import plotly.express as px\n",
    "import matplotlib.pyplot as plt\n",
    "from pathlib import Path\n",
    "import statsmodels.api as sm\n",
    "import seaborn as sns\n",
    "\n",
    "# Load cleaned datasets\n",
    "symbols = [\"SPY\", \"QQQ\"]\n",
    "data_dir = Path(\"../data/processed\")\n",
    "\n",
    "all_dfs = {}\n",
    "for symbol in symbols:\n",
    "    file = data_dir / f\"{symbol}_1min_clean.parquet\"\n",
    "    if file.exists():\n",
    "        all_dfs[symbol] = pd.read_parquet(file)\n",
    "        print(f\"Loaded {symbol}: {len(all_dfs[symbol])} rows\")\n",
    "\n",
    "# Example: use SPY for now\n",
    "df = all_dfs[\"SPY\"].copy()\n",
    "df[\"time\"] = pd.to_datetime(df[\"timestamp\"]).dt.time\n",
    "df[\"date\"] = pd.to_datetime(df[\"timestamp\"]).dt.date\n"
   ]
  },
  {
   "cell_type": "code",
   "execution_count": null,
   "id": "d21c8c6f",
   "metadata": {},
   "outputs": [],
   "source": [
    "intraday_stats = (\n",
    "    df.groupby(\"time\")\n",
    "      .agg(mean_return=(\"log_return\", \"mean\"),\n",
    "           volatility=(\"log_return\", \"std\"),\n",
    "           volume=(\"volume\", \"mean\"))\n",
    "      .reset_index()\n",
    ")\n",
    "\n",
    "fig = px.line(intraday_stats, x=\"time\", y=[\"mean_return\", \"volatility\"],\n",
    "              title=\"Intraday Mean Return and Volatility Patterns (SPY)\")\n",
    "fig.show()\n",
    "\n",
    "fig = px.line(intraday_stats, x=\"time\", y=\"volume\", title=\"Intraday Average Volume\")\n",
    "fig.show()"
   ]
  },
  {
   "cell_type": "code",
   "execution_count": null,
   "id": "c314c845",
   "metadata": {},
   "outputs": [],
   "source": [
    "returns = df[\"log_return\"].dropna()\n",
    "lags = range(1, 11)\n",
    "acf_values = [returns.autocorr(lag) for lag in lags]\n",
    "\n",
    "plt.bar(lags, acf_values)\n",
    "plt.title(\"Autocorrelation of 1-min log returns (SPY)\")\n",
    "plt.xlabel(\"Lag (minutes)\")\n",
    "plt.ylabel(\"Correlation\")\n",
    "plt.show()\n"
   ]
  },
  {
   "cell_type": "code",
   "execution_count": null,
   "id": "067b6299",
   "metadata": {},
   "outputs": [],
   "source": [
    "df[\"abs_return\"] = df[\"log_return\"].abs()\n",
    "px.scatter(df, x=\"volume\", y=\"abs_return\", opacity=0.3,\n",
    "           title=\"Volume vs Absolute 1-min Return (SPY)\").show()\n",
    "\n",
    "print(\"Correlation(volume, |return|):\", df[\"volume\"].corr(df[\"abs_return\"]))\n"
   ]
  },
  {
   "cell_type": "code",
   "execution_count": null,
   "id": "4a7a1141",
   "metadata": {},
   "outputs": [],
   "source": [
    "threshold = df[\"log_return\"].std() * 5\n",
    "extreme = df[np.abs(df[\"log_return\"]) > threshold]\n",
    "print(f\"Extreme 5σ moves: {len(extreme)}\")\n",
    "display(extreme[[\"timestamp\", \"log_return\", \"volume\"]].head())\n",
    "\n",
    "px.scatter(df, x=\"timestamp\", y=\"log_return\",\n",
    "           title=\"Extreme Intraday Moves (>5σ)\").show()\n"
   ]
  },
  {
   "cell_type": "code",
   "execution_count": null,
   "id": "23a8c250",
   "metadata": {},
   "outputs": [],
   "source": [
    "df[\"vwap_dev\"] = (df[\"close\"] - df[\"vwap\"]) / df[\"vwap\"]\n",
    "px.scatter(df, x=\"vwap_dev\", y=\"log_return\", opacity=0.3,\n",
    "           title=\"VWAP Deviation vs Next-Minute Return (SPY)\").show()\n",
    "\n",
    "print(\"Correlation(VWAP deviation, next return):\",\n",
    "      df[\"vwap_dev\"].corr(df[\"log_return\"].shift(-1)))\n"
   ]
  }
 ],
 "metadata": {
  "kernelspec": {
   "display_name": "trading",
   "language": "python",
   "name": "python3"
  },
  "language_info": {
   "codemirror_mode": {
    "name": "ipython",
    "version": 3
   },
   "file_extension": ".py",
   "mimetype": "text/x-python",
   "name": "python",
   "nbconvert_exporter": "python",
   "pygments_lexer": "ipython3",
   "version": "3.11.13"
  }
 },
 "nbformat": 4,
 "nbformat_minor": 5
}
